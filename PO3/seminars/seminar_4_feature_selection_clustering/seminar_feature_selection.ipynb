{
 "cells": [
  {
   "cell_type": "markdown",
   "metadata": {},
   "source": [
    "# Отбор признаков\n",
    "Продемонстрируем работу методов отбора признаков на примере предсказания отклика на рекламную кампанию. Считаем данные и посмотрим на их содержание."
   ]
  },
  {
   "cell_type": "code",
   "execution_count": null,
   "metadata": {},
   "outputs": [],
   "source": [
    "import numpy as np\n",
    "import pandas as pd\n",
    "from matplotlib import pyplot as plt\n",
    "%matplotlib inline"
   ]
  },
  {
   "cell_type": "code",
   "execution_count": null,
   "metadata": {},
   "outputs": [],
   "source": [
    "data = pd.read_excel(\"train_sample.xlsx\")"
   ]
  },
  {
   "cell_type": "code",
   "execution_count": null,
   "metadata": {},
   "outputs": [],
   "source": [
    "data.head()"
   ]
  },
  {
   "cell_type": "code",
   "execution_count": null,
   "metadata": {},
   "outputs": [],
   "source": [
    "data.columns"
   ]
  },
  {
   "cell_type": "markdown",
   "metadata": {},
   "source": [
    "Удалим пропуски в данных, выделим целевую переменную и разобьём данные на train и test"
   ]
  },
  {
   "cell_type": "code",
   "execution_count": null,
   "metadata": {},
   "outputs": [],
   "source": [
    "data.dropna(inplace=True)"
   ]
  },
  {
   "cell_type": "code",
   "execution_count": null,
   "metadata": {},
   "outputs": [],
   "source": [
    "y = data['Целевая. Логарифм дохода клиента'].values"
   ]
  },
  {
   "cell_type": "code",
   "execution_count": null,
   "metadata": {},
   "outputs": [],
   "source": [
    "X = data.drop(columns=['Целевая. Логарифм дохода клиента', 'Целевая. Доход клиента'])"
   ]
  },
  {
   "cell_type": "code",
   "execution_count": null,
   "metadata": {},
   "outputs": [],
   "source": [
    "from sklearn.model_selection import train_test_split"
   ]
  },
  {
   "cell_type": "code",
   "execution_count": null,
   "metadata": {},
   "outputs": [],
   "source": [
    "X_train, X_test, y_train, y_test = train_test_split(X, y, train_size=0.8)"
   ]
  },
  {
   "cell_type": "markdown",
   "metadata": {},
   "source": [
    "Матрица корреляций. Видим, что есть множество корреляций, поскольку изначально данные дублируются. Выделим колонки с логарифмами признаков."
   ]
  },
  {
   "cell_type": "code",
   "execution_count": null,
   "metadata": {},
   "outputs": [],
   "source": [
    "import seaborn as sns"
   ]
  },
  {
   "cell_type": "code",
   "execution_count": null,
   "metadata": {},
   "outputs": [],
   "source": [
    "sns.heatmap(X_train.corr())"
   ]
  },
  {
   "cell_type": "code",
   "execution_count": null,
   "metadata": {},
   "outputs": [],
   "source": [
    "basic_columns = X.columns[:-8].values\n",
    "log_columns = ['ID клиента',\n",
    "                         'Сумма всех приходных операций',\n",
    "                         'Атрибут. Возраст', \n",
    "                         'Атрибут. Пол',\n",
    "                         'Атрибут. Тип населенного пункта: города-миллионеры',\n",
    "                         'Атрибут. Тип населенного пункта: остальные города',\n",
    "                         'Атрибут. Гражданин РФ', 'Атрибут. Сотрудник Сбербанка',\n",
    "                         'Атрибут. Сегмент ВИП',\n",
    "                         'Атрибут. Сегмент МВС (массовый высокодоходный)',\n",
    "                         'Атрибут. Социальный сегмент', 'Атрибут. Массовый сегмент',\n",
    "                         'Атрибут. Активный мобильный банк', 'Атрибут. Наличие Пакета Услуга',\n",
    "                         'Атрибут. Уровень утилизации кредитной карты',\n",
    "                         'Атрибут. Подключенная программа лояльности Спасибо',\n",
    "                         'Логарифм. Сумма входящих переводов по картам',\n",
    "                         'Логарифм. Сумма снятий наличных в банкоматах',\n",
    "                         'Логарифм. Сумма трат в категории Кафе/Рестораны',\n",
    "                         'Логарифм. Средний ежемесячный платеж по кредитам',\n",
    "                         'Логарифм. Основной долг по ипотеке',\n",
    "                         'Логарифм. Основной долг по потребительским кредитам',\n",
    "                         'Логарифм. Сумма соц начислений',\n",
    "                         'Логарифм. Суммарный баланс по всем счетам', \n",
    "                         'Логарифм. P&L клиента']\n"
   ]
  },
  {
   "cell_type": "markdown",
   "metadata": {},
   "source": [
    "Обучим два бейзлайна: Ridge-регрессию и случайный лес. Измерим качество и визуализируем коэффициенты признаков."
   ]
  },
  {
   "cell_type": "code",
   "execution_count": null,
   "metadata": {},
   "outputs": [],
   "source": [
    "from sklearn.model_selection import cross_val_score\n",
    "from sklearn.linear_model import Ridge"
   ]
  },
  {
   "cell_type": "code",
   "execution_count": null,
   "metadata": {},
   "outputs": [],
   "source": [
    "cross_val_score(Ridge(), X=X_train[log_columns], y=y_train, cv=5, scoring='r2').mean(), \\\n",
    "cross_val_score(Ridge(), X=X_train, y=y_train, cv=5, scoring='r2').mean()"
   ]
  },
  {
   "cell_type": "code",
   "execution_count": null,
   "metadata": {},
   "outputs": [],
   "source": [
    "from sklearn.ensemble import RandomForestRegressor"
   ]
  },
  {
   "cell_type": "code",
   "execution_count": null,
   "metadata": {},
   "outputs": [],
   "source": [
    "cross_val_score(RandomForestRegressor(n_estimators=100), X=X_train[log_columns], y=y_train, cv=5, scoring='r2').mean(), \\\n",
    "cross_val_score(RandomForestRegressor(n_estimators=100), X=X_train, y=y_train, cv=5, scoring='r2').mean()"
   ]
  },
  {
   "cell_type": "code",
   "execution_count": null,
   "metadata": {},
   "outputs": [],
   "source": [
    "model = Ridge().fit(X_train[log_columns], y_train)\n",
    "plt.figure(figsize=(20, 8))\n",
    "plt.bar(log_columns, model.coef_)"
   ]
  },
  {
   "cell_type": "code",
   "execution_count": null,
   "metadata": {},
   "outputs": [],
   "source": [
    "list(zip(model.coef_, log_columns))"
   ]
  },
  {
   "cell_type": "markdown",
   "metadata": {},
   "source": [
    "## Модели на основе статистического анализа\n",
    "sklearn содержит в себе множество статистических тестов для определения важности признаков.\n",
    "\n",
    "Для задачи регрессии: f_regression, mutual_info_regression\n",
    "Для задачи классификации: chi2, f_classif, mutual_info_classif\n",
    "\n",
    "Воспользуемся методом mutual_info_regression."
   ]
  },
  {
   "cell_type": "code",
   "execution_count": null,
   "metadata": {},
   "outputs": [],
   "source": [
    "from sklearn.feature_selection import mutual_info_regression\n",
    "\n",
    "mutual_information = mutual_info_regression(X_train[log_columns], y_train)"
   ]
  },
  {
   "cell_type": "code",
   "execution_count": null,
   "metadata": {},
   "outputs": [],
   "source": [
    "mutual_information"
   ]
  },
  {
   "cell_type": "code",
   "execution_count": null,
   "metadata": {},
   "outputs": [],
   "source": [
    "plt.figure(figsize=(20, 8))\n",
    "plt.bar(log_columns, mutual_information)"
   ]
  },
  {
   "cell_type": "code",
   "execution_count": null,
   "metadata": {},
   "outputs": [],
   "source": [
    "from sklearn.feature_selection import GenericUnivariateSelect"
   ]
  },
  {
   "cell_type": "code",
   "execution_count": null,
   "metadata": {},
   "outputs": [],
   "source": [
    "trans = GenericUnivariateSelect(score_func=mutual_info_regression, mode='percentile', param=50)\n",
    "X_trans = trans.fit_transform(X_train[log_columns], y_train)"
   ]
  },
  {
   "cell_type": "code",
   "execution_count": null,
   "metadata": {},
   "outputs": [],
   "source": [
    "columns_retained_Select = np.array(log_columns)[trans.get_support()]\n",
    "X_trans = pd.DataFrame(X_trans, columns=columns_retained_Select)\n",
    "X_trans.head()"
   ]
  },
  {
   "cell_type": "code",
   "execution_count": null,
   "metadata": {},
   "outputs": [],
   "source": [
    "cross_val_score(Ridge(), X=X_trans, y=y_train, cv=5, scoring='r2').mean()\n"
   ]
  },
  {
   "cell_type": "markdown",
   "metadata": {},
   "source": [
    "Sklearn также поддерживает возможность выбрать признаки исходя из их важности в моделях."
   ]
  },
  {
   "cell_type": "code",
   "execution_count": null,
   "metadata": {},
   "outputs": [],
   "source": [
    "from sklearn.feature_selection import SelectFromModel\n",
    "\n",
    "clf = RandomForestRegressor()\n",
    "trans = SelectFromModel(clf, threshold='median')\n",
    "X_trans = trans.fit_transform(X_train[log_columns], y_train)\n",
    "\n",
    "columns_retained_Select = np.array(log_columns)[trans.get_support()]\n",
    "X_trans = pd.DataFrame(X_trans, columns=columns_retained_Select)\n",
    "X_trans.head()"
   ]
  },
  {
   "cell_type": "code",
   "execution_count": null,
   "metadata": {},
   "outputs": [],
   "source": [
    "cross_val_score(Ridge(), X=X_trans, y=y_train, cv=5, scoring='r2').mean()"
   ]
  },
  {
   "cell_type": "markdown",
   "metadata": {},
   "source": [
    "Рекурсивный поиск важных признаков позволяет выбрать признаки, которые дают наилучшее качество. В стандартном (не рекурсивном) варианте можно фиксировать количество желаемых признаков."
   ]
  },
  {
   "cell_type": "code",
   "execution_count": null,
   "metadata": {},
   "outputs": [],
   "source": [
    "from sklearn.feature_selection import RFECV\n",
    "\n",
    "clf = Ridge()\n",
    "trans = RFECV(clf)\n",
    "X_trans = trans.fit_transform(X_train[log_columns], y_train)\n",
    "columns_retained_Select = np.array(log_columns)[trans.get_support()]\n",
    "\n",
    "X_trans = pd.DataFrame(X_trans, columns=columns_retained_Select)\n",
    "X_trans.head()"
   ]
  },
  {
   "cell_type": "code",
   "execution_count": null,
   "metadata": {},
   "outputs": [],
   "source": [
    "cross_val_score(Ridge(), X=X_trans, y=y_train, cv=5, scoring='r2').mean()"
   ]
  },
  {
   "cell_type": "code",
   "execution_count": null,
   "metadata": {},
   "outputs": [],
   "source": [
    "columns_retained_Select.shape, len(log_columns)"
   ]
  },
  {
   "cell_type": "code",
   "execution_count": null,
   "metadata": {},
   "outputs": [],
   "source": [
    "from sklearn.feature_selection import RFE\n",
    "\n",
    "clf = Ridge()\n",
    "trans = RFE(clf, n_features_to_select=13)\n",
    "X_trans = trans.fit_transform(X_train[log_columns], y_train)\n",
    "columns_retained_Select = np.array(log_columns)[trans.get_support()]\n",
    "\n",
    "X_trans = pd.DataFrame(X_trans, columns=columns_retained_Select)\n",
    "X_trans.head()"
   ]
  },
  {
   "cell_type": "markdown",
   "metadata": {},
   "source": [
    "## Выводы"
   ]
  }
 ],
 "metadata": {
  "kernelspec": {
   "display_name": "Python ml_shad",
   "language": "python",
   "name": "ml_shad"
  },
  "language_info": {
   "codemirror_mode": {
    "name": "ipython",
    "version": 3
   },
   "file_extension": ".py",
   "mimetype": "text/x-python",
   "name": "python",
   "nbconvert_exporter": "python",
   "pygments_lexer": "ipython3",
   "version": "3.6.5"
  }
 },
 "nbformat": 4,
 "nbformat_minor": 2
}
