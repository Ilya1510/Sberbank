{
 "cells": [
  {
   "cell_type": "markdown",
   "metadata": {},
   "source": [
    "# Кластеризация\n",
    "\n",
    "Цель задачи кластеризации -- разбить объекты на кластеры так, чтобы схожие объекты оказались в одном кластере, а различные -- в разных.\n",
    "\n",
    "## Алгоритм K-Means\n",
    "\n",
    "Одним из популярных алгоритмов кластеризации является алгоритм K-Means. Опишем этот алгоритм.\n",
    "1. Разобьём объекты на кластеры произвольным образом\n",
    "2. Повторяем до сходимости:\n",
    "* E-шаг: найдём текущие центы кластеров $\\mu_i$;\n",
    "* M-шаг: переразметим объекты, отнеся каждый объект к кластеру, центр $\\mu_i$ которого ближе всех.\n",
    "\n",
    "### Задание: реализуйте алгоритм K-Means"
   ]
  },
  {
   "cell_type": "code",
   "execution_count": null,
   "metadata": {},
   "outputs": [],
   "source": [
    "import numpy as np\n",
    "import matplotlib.pyplot as plt"
   ]
  },
  {
   "cell_type": "code",
   "execution_count": null,
   "metadata": {},
   "outputs": [],
   "source": [
    "class EMAlgorithm:\n",
    "    def __init__(self, points, n_clusters=3):\n",
    "        self.points = points\n",
    "        self.n_clusters = n_clusters\n",
    "        self.labels = np.random.randint(n_clusters, size=points.shape[0])\n",
    "        \n",
    "    def e_step(self):\n",
    "        means = []\n",
    "        for cluster in range(self.n_clusters):\n",
    "            cluster_poinst = #ВАШ КОД: выделите точки, принадлежащие кластеру, согласно массиву self.labels\n",
    "            mean = #ВАШ КОД: вычислите среднее по этим точкам. Если точек нет, верните 0-вектор\n",
    "            means.append(mean)\n",
    "        self.means = np.stack(means, axis=0)\n",
    "    \n",
    "    def m_step(self):\n",
    "        labels = []\n",
    "        for i in range(points.shape[0]):\n",
    "            label = #ВАШ КОД: вычислите label i-ой точки\n",
    "            labels.append(label)\n",
    "        self.labels = np.array(labels)\n",
    "    \n",
    "    def visualize(self, title=''):\n",
    "        plt.figure(figsize=(10,10))\n",
    "        plt.title('Visualize ' + title)\n",
    "        plt.scatter(self.means[:, 0], self.means[:, 1], c='red', s=150, label='cluster centers')\n",
    "        \n",
    "        lines = [[self.points[i], self.means[self.labels[i]]] for i in range(len(self.labels))]\n",
    "        \n",
    "        for i, line in enumerate(lines):\n",
    "            plt.plot([line[0][0], line[1][0]], [line[0][1], line[1][1]], \n",
    "                     color='black', \n",
    "                     linestyle='dashed', \n",
    "                     linewidth=1)\n",
    "        plt.scatter(self.points[:, 0], self.points[:, 1], c=self.labels, s=50)\n",
    "        plt.legend()\n",
    "        plt.show()"
   ]
  },
  {
   "cell_type": "markdown",
   "metadata": {},
   "source": [
    "Сгенерируем искусственные данные "
   ]
  },
  {
   "cell_type": "code",
   "execution_count": null,
   "metadata": {},
   "outputs": [],
   "source": [
    "from sklearn.datasets import make_blobs"
   ]
  },
  {
   "cell_type": "code",
   "execution_count": null,
   "metadata": {},
   "outputs": [],
   "source": [
    "points = make_blobs(n_samples=40, centers=4)[0]\n",
    "plt.scatter(points[:, 0], points[:, 1])"
   ]
  },
  {
   "cell_type": "markdown",
   "metadata": {},
   "source": [
    "Посмотрим, как алгоритм работает на искусственных данных."
   ]
  },
  {
   "cell_type": "code",
   "execution_count": null,
   "metadata": {},
   "outputs": [],
   "source": [
    "from IPython.display import clear_output\n",
    "import time"
   ]
  },
  {
   "cell_type": "code",
   "execution_count": null,
   "metadata": {},
   "outputs": [],
   "source": [
    "alg = EMAlgorithm(points, n_clusters=4)\n",
    "for i in range(10):\n",
    "    alg.e_step()\n",
    "    clear_output()\n",
    "    alg.visualize('E-step')\n",
    "    time.sleep(20)\n",
    "    alg.m_step()\n",
    "    clear_output()\n",
    "    alg.visualize('M-step')\n",
    "    time.sleep(20)"
   ]
  },
  {
   "cell_type": "markdown",
   "metadata": {},
   "source": [
    "## Выделение сегментов клиентов банка с помощью кластеризации"
   ]
  },
  {
   "cell_type": "code",
   "execution_count": null,
   "metadata": {},
   "outputs": [],
   "source": [
    "import numpy as np\n",
    "import pandas as pd\n",
    "import matplotlib.pyplot as plt\n",
    "%matplotlib inline"
   ]
  },
  {
   "cell_type": "code",
   "execution_count": null,
   "metadata": {},
   "outputs": [],
   "source": [
    "data = pd.read_excel(\"clust_sample_dev_100k.xlsx\")"
   ]
  },
  {
   "cell_type": "code",
   "execution_count": null,
   "metadata": {},
   "outputs": [],
   "source": [
    "data.info()"
   ]
  },
  {
   "cell_type": "code",
   "execution_count": null,
   "metadata": {
    "scrolled": true
   },
   "outputs": [],
   "source": [
    "data.describe()"
   ]
  },
  {
   "cell_type": "markdown",
   "metadata": {},
   "source": [
    "### Нахождение выбросов\n",
    "Выбросы в данных помешают хорошей кластеризации. Найдите выбросы в графе \"Суммарная задолженность по кредитам\" и избавьтесь от них."
   ]
  },
  {
   "cell_type": "code",
   "execution_count": null,
   "metadata": {},
   "outputs": [],
   "source": []
  },
  {
   "cell_type": "code",
   "execution_count": null,
   "metadata": {},
   "outputs": [],
   "source": [
    "data_to_cluster = data.copy()"
   ]
  },
  {
   "cell_type": "markdown",
   "metadata": {},
   "source": [
    "### Анализ признаков\n",
    "Распределение признаков важно для последующей кластеризации. Найдите признаки, распределение которых вас не устраивает, и преобразуйте их соответственно. Некоторые признаки очень часто равны 0. Бинаризуйте такие вхождения."
   ]
  },
  {
   "cell_type": "code",
   "execution_count": null,
   "metadata": {},
   "outputs": [],
   "source": []
  },
  {
   "cell_type": "code",
   "execution_count": null,
   "metadata": {},
   "outputs": [],
   "source": []
  },
  {
   "cell_type": "markdown",
   "metadata": {},
   "source": [
    "### Примените нормировку данных к признакам"
   ]
  },
  {
   "cell_type": "code",
   "execution_count": null,
   "metadata": {},
   "outputs": [],
   "source": [
    "from sklearn.preprocessing import scale"
   ]
  },
  {
   "cell_type": "code",
   "execution_count": null,
   "metadata": {},
   "outputs": [],
   "source": []
  },
  {
   "cell_type": "markdown",
   "metadata": {},
   "source": [
    "### Матрица корреляций"
   ]
  },
  {
   "cell_type": "code",
   "execution_count": null,
   "metadata": {},
   "outputs": [],
   "source": [
    "import seaborn as sns"
   ]
  },
  {
   "cell_type": "code",
   "execution_count": null,
   "metadata": {},
   "outputs": [],
   "source": [
    "sns.heatmap(data_to_cluster.corr())"
   ]
  },
  {
   "cell_type": "markdown",
   "metadata": {},
   "source": [
    "### Собственно, кластеризация\n",
    "Кластеризуйте данные на 9 кластеров. Переменную labels_ обученного кластеризатора передайте в качестве нового столбца датафрейму data."
   ]
  },
  {
   "cell_type": "code",
   "execution_count": null,
   "metadata": {},
   "outputs": [],
   "source": [
    "from sklearn.cluster import KMeans"
   ]
  },
  {
   "cell_type": "markdown",
   "metadata": {},
   "source": [
    "### Найдём центры кластеров"
   ]
  },
  {
   "cell_type": "code",
   "execution_count": null,
   "metadata": {},
   "outputs": [],
   "source": [
    "means = np.stack([data[data['cluster'] == i].describe().values[1] for i in range(9)])"
   ]
  },
  {
   "cell_type": "code",
   "execution_count": null,
   "metadata": {},
   "outputs": [],
   "source": [
    "pd.options.display.max_columns = 30"
   ]
  },
  {
   "cell_type": "code",
   "execution_count": null,
   "metadata": {
    "scrolled": true
   },
   "outputs": [],
   "source": [
    "means = pd.DataFrame(means, columns=data.columns)\n",
    "means"
   ]
  }
 ],
 "metadata": {
  "kernelspec": {
   "display_name": "Python 3",
   "language": "python",
   "name": "python3"
  },
  "language_info": {
   "codemirror_mode": {
    "name": "ipython",
    "version": 3
   },
   "file_extension": ".py",
   "mimetype": "text/x-python",
   "name": "python",
   "nbconvert_exporter": "python",
   "pygments_lexer": "ipython3",
   "version": "3.6.7"
  }
 },
 "nbformat": 4,
 "nbformat_minor": 2
}
