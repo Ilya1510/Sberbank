{
  "nbformat": 4,
  "nbformat_minor": 0,
  "metadata": {
    "colab": {
      "name": "keras_intro.ipynb",
      "version": "0.3.2",
      "provenance": []
    },
    "language_info": {
      "codemirror_mode": {
        "name": "ipython",
        "version": 3
      },
      "file_extension": ".py",
      "mimetype": "text/x-python",
      "name": "python",
      "nbconvert_exporter": "python",
      "pygments_lexer": "ipython3",
      "version": "3.6.7"
    },
    "kernelspec": {
      "name": "python3",
      "display_name": "Python 3"
    },
    "accelerator": "GPU"
  },
  "cells": [
    {
      "cell_type": "markdown",
      "metadata": {
        "id": "CPOhzV1_Yajj",
        "colab_type": "text"
      },
      "source": [
        "# Нейронные сети с Keras\n",
        "Keras -- простая библиотека для написания нейронных сетей. Keras не позволяет строить сложные модели со специфическими функциями потерь, но зато удобен в использовании. Синтаксис Keras напоминает синтаксис sklearn."
      ]
    },
    {
      "cell_type": "code",
      "metadata": {
        "id": "rxV75BpxYajp",
        "colab_type": "code",
        "outputId": "074e0699-32b3-46ad-a0c4-f975dda2db03",
        "colab": {
          "base_uri": "https://localhost:8080/",
          "height": 156
        }
      },
      "source": [
        "!pip install keras"
      ],
      "execution_count": 0,
      "outputs": [
        {
          "output_type": "stream",
          "text": [
            "Requirement already satisfied: keras in /usr/local/lib/python3.6/dist-packages (2.2.4)\n",
            "Requirement already satisfied: numpy>=1.9.1 in /usr/local/lib/python3.6/dist-packages (from keras) (1.16.3)\n",
            "Requirement already satisfied: scipy>=0.14 in /usr/local/lib/python3.6/dist-packages (from keras) (1.2.1)\n",
            "Requirement already satisfied: keras-preprocessing>=1.0.5 in /usr/local/lib/python3.6/dist-packages (from keras) (1.0.9)\n",
            "Requirement already satisfied: pyyaml in /usr/local/lib/python3.6/dist-packages (from keras) (3.13)\n",
            "Requirement already satisfied: six>=1.9.0 in /usr/local/lib/python3.6/dist-packages (from keras) (1.12.0)\n",
            "Requirement already satisfied: keras-applications>=1.0.6 in /usr/local/lib/python3.6/dist-packages (from keras) (1.0.7)\n",
            "Requirement already satisfied: h5py in /usr/local/lib/python3.6/dist-packages (from keras) (2.8.0)\n"
          ],
          "name": "stdout"
        }
      ]
    },
    {
      "cell_type": "code",
      "metadata": {
        "id": "M9l7K4B9Yaju",
        "colab_type": "code",
        "outputId": "6acd8097-fe92-4590-ed80-970bbc421a72",
        "colab": {
          "base_uri": "https://localhost:8080/",
          "height": 35
        }
      },
      "source": [
        "import numpy as np\n",
        "import keras, keras.layers as L"
      ],
      "execution_count": 0,
      "outputs": [
        {
          "output_type": "stream",
          "text": [
            "Using TensorFlow backend.\n"
          ],
          "name": "stderr"
        }
      ]
    },
    {
      "cell_type": "markdown",
      "metadata": {
        "id": "qxPspJl2Yaj4",
        "colab_type": "text"
      },
      "source": [
        "### Введение\n",
        "Основной класс для работы с керасом -- модель Sequential. В модель можно последовательно добавлять слои нейронной сети. \n",
        "\n",
        "После добавления всех слоёв можно вызвать model.compile, указав в аргументах функцию потерь, оптимизатор и метрику, которую необходимо считать при оптиимзации.\n",
        "\n",
        "Функция .summary выводит информацию о нейронной сети."
      ]
    },
    {
      "cell_type": "code",
      "metadata": {
        "id": "VO5hs7O2Yaj5",
        "colab_type": "code",
        "outputId": "d3a89e29-66e6-4d6a-d396-04ecadbb7552",
        "colab": {
          "base_uri": "https://localhost:8080/",
          "height": 89
        }
      },
      "source": [
        "model = keras.models.Sequential()\n",
        "model.add(L.InputLayer(input_shape=[64]))\n",
        "model.add(L.Dense(100, activation='relu'))\n",
        "model.add(L.Dense(10, activation='softmax'))\n",
        "\n",
        "model.compile(loss='sparse_categorical_crossentropy', optimizer='adam', metrics=['accuracy'])"
      ],
      "execution_count": 0,
      "outputs": [
        {
          "output_type": "stream",
          "text": [
            "WARNING:tensorflow:From /usr/local/lib/python3.6/dist-packages/tensorflow/python/framework/op_def_library.py:263: colocate_with (from tensorflow.python.framework.ops) is deprecated and will be removed in a future version.\n",
            "Instructions for updating:\n",
            "Colocations handled automatically by placer.\n"
          ],
          "name": "stdout"
        }
      ]
    },
    {
      "cell_type": "code",
      "metadata": {
        "id": "O_k5ptxlYaj9",
        "colab_type": "code",
        "outputId": "48fb8b7d-128a-4469-a6a6-113764334ae0",
        "colab": {
          "base_uri": "https://localhost:8080/",
          "height": 208
        }
      },
      "source": [
        "model.summary()"
      ],
      "execution_count": 0,
      "outputs": [
        {
          "output_type": "stream",
          "text": [
            "_________________________________________________________________\n",
            "Layer (type)                 Output Shape              Param #   \n",
            "=================================================================\n",
            "dense_5 (Dense)              (None, 100)               6500      \n",
            "_________________________________________________________________\n",
            "dense_6 (Dense)              (None, 10)                1010      \n",
            "=================================================================\n",
            "Total params: 7,510\n",
            "Trainable params: 7,510\n",
            "Non-trainable params: 0\n",
            "_________________________________________________________________\n"
          ],
          "name": "stdout"
        }
      ]
    },
    {
      "cell_type": "markdown",
      "metadata": {
        "id": "6OpNC22sYakC",
        "colab_type": "text"
      },
      "source": [
        "Обучим модель на датасете digits. "
      ]
    },
    {
      "cell_type": "code",
      "metadata": {
        "id": "G96gMHCFe6Ux",
        "colab_type": "code",
        "outputId": "f955c9cb-3f64-4b59-f306-dd0cdd3ee3f2",
        "colab": {
          "base_uri": "https://localhost:8080/",
          "height": 183
        }
      },
      "source": [
        "from sklearn.datasets import load_digits\n",
        "\n",
        "X, y = load_digits(return_X_y=True)\n",
        "plt.imshow(X[0])"
      ],
      "execution_count": 0,
      "outputs": [
        {
          "output_type": "error",
          "ename": "NameError",
          "evalue": "ignored",
          "traceback": [
            "\u001b[0;31m---------------------------------------------------------------------------\u001b[0m",
            "\u001b[0;31mNameError\u001b[0m                                 Traceback (most recent call last)",
            "\u001b[0;32m<ipython-input-5-b29123426156>\u001b[0m in \u001b[0;36m<module>\u001b[0;34m()\u001b[0m\n\u001b[0;32m----> 1\u001b[0;31m \u001b[0mX\u001b[0m\u001b[0;34m,\u001b[0m \u001b[0my\u001b[0m \u001b[0;34m=\u001b[0m \u001b[0mload_digits\u001b[0m\u001b[0;34m(\u001b[0m\u001b[0mreturn_X_y\u001b[0m\u001b[0;34m=\u001b[0m\u001b[0;32mTrue\u001b[0m\u001b[0;34m)\u001b[0m\u001b[0;34m\u001b[0m\u001b[0;34m\u001b[0m\u001b[0m\n\u001b[0m\u001b[1;32m      2\u001b[0m \u001b[0mplt\u001b[0m\u001b[0;34m.\u001b[0m\u001b[0mimshow\u001b[0m\u001b[0;34m(\u001b[0m\u001b[0mX\u001b[0m\u001b[0;34m[\u001b[0m\u001b[0;36m0\u001b[0m\u001b[0;34m]\u001b[0m\u001b[0;34m)\u001b[0m\u001b[0;34m\u001b[0m\u001b[0;34m\u001b[0m\u001b[0m\n",
            "\u001b[0;31mNameError\u001b[0m: name 'load_digits' is not defined"
          ]
        }
      ]
    },
    {
      "cell_type": "code",
      "metadata": {
        "id": "y4KmOUewYakE",
        "colab_type": "code",
        "outputId": "dbaff437-b377-4a2e-e57a-9acd98627c64",
        "colab": {}
      },
      "source": [
        "from sklearn.datasets import load_digits\n",
        "X, y = load_digits(return_X_y=True)\n",
        "\n",
        "model.fit(X, y, epochs=3)\n",
        "\n",
        "y_pred = model.predict_classes(X)\n",
        "y_proba = model.predict_proba(X)\n",
        "\n",
        "from sklearn.metrics import accuracy_score\n",
        "print(\"\\nAccuracy = %.3f\" % accuracy_score(y, y_pred))"
      ],
      "execution_count": 0,
      "outputs": [
        {
          "output_type": "stream",
          "text": [
            "Epoch 1/3\n",
            "1797/1797 [==============================] - 1s - loss: 2.8859 - acc: 0.4352     \n",
            "Epoch 2/3\n",
            "1797/1797 [==============================] - 0s - loss: 0.4349 - acc: 0.8703     \n",
            "Epoch 3/3\n",
            "1797/1797 [==============================] - 0s - loss: 0.2474 - acc: 0.9282     \n",
            "  32/1797 [..............................] - ETA: 0s\n",
            "Accuracy = 0.949\n"
          ],
          "name": "stdout"
        }
      ]
    },
    {
      "cell_type": "markdown",
      "metadata": {
        "id": "YJV_g3YTYakJ",
        "colab_type": "text"
      },
      "source": [
        "### Обобщающая способность нейронной сети\n",
        "Визуализируем предсказания нейронной сети на простой задаче восстановления одномерной зависимости. "
      ]
    },
    {
      "cell_type": "code",
      "metadata": {
        "id": "Zumpk28IYakK",
        "colab_type": "code",
        "colab": {}
      },
      "source": [
        "import matplotlib.pyplot as plt"
      ],
      "execution_count": 0,
      "outputs": []
    },
    {
      "cell_type": "code",
      "metadata": {
        "id": "XelqF_T5YakO",
        "colab_type": "code",
        "outputId": "f6e5baff-9ae1-42c8-e3be-31fd1a7fcda8",
        "colab": {}
      },
      "source": [
        "X = np.linspace(-5, 5, 1000)\n",
        "y = 0.05 * X ** 4 - 0.5 * X ** 3 + 8 * X - 3 + 4 * np.sin(X**2 / 2)\n",
        "plt.plot(X,y)"
      ],
      "execution_count": 0,
      "outputs": [
        {
          "output_type": "execute_result",
          "data": {
            "text/plain": [
              "[<matplotlib.lines.Line2D at 0x7efe0c33e748>]"
            ]
          },
          "metadata": {
            "tags": []
          },
          "execution_count": 35
        },
        {
          "output_type": "display_data",
          "data": {
            "image/png": "[encoded data removed]",
            "text/plain": [
              "<Figure size 432x288 with 1 Axes>"
            ]
          },
          "metadata": {
            "tags": [],
            "needs_background": "light"
          }
        }
      ]
    },
    {
      "cell_type": "markdown",
      "metadata": {
        "id": "YIRyNn6zYakW",
        "colab_type": "text"
      },
      "source": [
        "Подберём нейронную сеть, хорошо приближающую нашу функцию."
      ]
    },
    {
      "cell_type": "code",
      "metadata": {
        "id": "YXe--7nnYakX",
        "colab_type": "code",
        "colab": {}
      },
      "source": [
        "model = keras.models.Sequential()\n",
        "model.add(L.InputLayer([1]))\n",
        "model.add(L.Dense(1))\n",
        "model.compile(loss='mean_squared_error', optimizer='adam')"
      ],
      "execution_count": 0,
      "outputs": []
    },
    {
      "cell_type": "code",
      "metadata": {
        "id": "r66Dw4cSYakb",
        "colab_type": "code",
        "outputId": "47064cb5-760b-4853-bbbd-9c3fb582920f",
        "colab": {}
      },
      "source": [
        "model.fit(X,y, epochs=100)"
      ],
      "execution_count": 0,
      "outputs": [
        {
          "output_type": "stream",
          "text": [
            "Epoch 1/500\n",
            "1000/1000 [==============================] - 0s - loss: 156.3388     \n",
            "Epoch 2/500\n",
            "1000/1000 [==============================] - 0s - loss: 151.0584     \n",
            "Epoch 3/500\n",
            "1000/1000 [==============================] - 0s - loss: 150.7548     \n",
            "Epoch 4/500\n",
            "1000/1000 [==============================] - 0s - loss: 150.5290     \n",
            "Epoch 5/500\n",
            "1000/1000 [==============================] - 0s - loss: 150.2900     \n",
            "Epoch 6/500\n",
            "1000/1000 [==============================] - 0s - loss: 149.9836     \n",
            "Epoch 7/500\n",
            "1000/1000 [==============================] - 0s - loss: 149.9317     \n",
            "Epoch 8/500\n",
            "1000/1000 [==============================] - 0s - loss: 149.4093     \n",
            "Epoch 9/500\n",
            "1000/1000 [==============================] - 0s - loss: 148.9618    \n",
            "Epoch 10/500\n",
            "1000/1000 [==============================] - 0s - loss: 148.3615     \n",
            "Epoch 11/500\n",
            "1000/1000 [==============================] - 0s - loss: 147.7070     \n",
            "Epoch 12/500\n",
            "1000/1000 [==============================] - 0s - loss: 146.9079     \n",
            "Epoch 13/500\n",
            "1000/1000 [==============================] - 0s - loss: 145.8942     \n",
            "Epoch 14/500\n",
            "1000/1000 [==============================] - 0s - loss: 144.2308     \n",
            "Epoch 15/500\n",
            "1000/1000 [==============================] - 0s - loss: 142.5955     \n",
            "Epoch 16/500\n",
            "1000/1000 [==============================] - 0s - loss: 140.3481     \n",
            "Epoch 17/500\n",
            "1000/1000 [==============================] - 0s - loss: 138.1678     \n",
            "Epoch 18/500\n",
            "1000/1000 [==============================] - 0s - loss: 136.0961     \n",
            "Epoch 19/500\n",
            "1000/1000 [==============================] - 0s - loss: 133.6117     \n",
            "Epoch 20/500\n",
            "1000/1000 [==============================] - 0s - loss: 131.4243     \n",
            "Epoch 21/500\n",
            "1000/1000 [==============================] - 0s - loss: 129.0511     \n",
            "Epoch 22/500\n",
            "1000/1000 [==============================] - 0s - loss: 126.4318     \n",
            "Epoch 23/500\n",
            "1000/1000 [==============================] - 0s - loss: 123.6489     \n",
            "Epoch 24/500\n",
            "1000/1000 [==============================] - 0s - loss: 120.6709     \n",
            "Epoch 25/500\n",
            "1000/1000 [==============================] - 0s - loss: 117.3636     \n",
            "Epoch 26/500\n",
            "1000/1000 [==============================] - 0s - loss: 113.5948     \n",
            "Epoch 27/500\n",
            "1000/1000 [==============================] - 0s - loss: 109.8503     \n",
            "Epoch 28/500\n",
            "1000/1000 [==============================] - 0s - loss: 104.6353     \n",
            "Epoch 29/500\n",
            "1000/1000 [==============================] - 0s - loss: 99.7443      \n",
            "Epoch 30/500\n",
            "1000/1000 [==============================] - 0s - loss: 94.6672     \n",
            "Epoch 31/500\n",
            "1000/1000 [==============================] - 0s - loss: 89.5277     \n",
            "Epoch 32/500\n",
            "1000/1000 [==============================] - 0s - loss: 84.7364     \n",
            "Epoch 33/500\n",
            "1000/1000 [==============================] - 0s - loss: 80.3050     \n",
            "Epoch 34/500\n",
            "1000/1000 [==============================] - 0s - loss: 75.9101     \n",
            "Epoch 35/500\n",
            "1000/1000 [==============================] - 0s - loss: 71.9209     \n",
            "Epoch 36/500\n",
            "1000/1000 [==============================] - 0s - loss: 68.0020     \n",
            "Epoch 37/500\n",
            "1000/1000 [==============================] - 0s - loss: 64.5395     \n",
            "Epoch 38/500\n",
            "1000/1000 [==============================] - 0s - loss: 61.0673     \n",
            "Epoch 39/500\n",
            "1000/1000 [==============================] - 0s - loss: 57.6489     \n",
            "Epoch 40/500\n",
            "1000/1000 [==============================] - 0s - loss: 54.6102     \n",
            "Epoch 41/500\n",
            "1000/1000 [==============================] - 0s - loss: 51.4517     \n",
            "Epoch 42/500\n",
            "1000/1000 [==============================] - 0s - loss: 48.8657     \n",
            "Epoch 43/500\n",
            "1000/1000 [==============================] - 0s - loss: 45.8652     \n",
            "Epoch 44/500\n",
            "1000/1000 [==============================] - 0s - loss: 43.0063     \n",
            "Epoch 45/500\n",
            "1000/1000 [==============================] - 0s - loss: 40.2924     \n",
            "Epoch 46/500\n",
            "1000/1000 [==============================] - 0s - loss: 37.6551     \n",
            "Epoch 47/500\n",
            "1000/1000 [==============================] - 0s - loss: 35.3281     \n",
            "Epoch 48/500\n",
            "1000/1000 [==============================] - 0s - loss: 33.1591     \n",
            "Epoch 49/500\n",
            "1000/1000 [==============================] - 0s - loss: 30.9170     \n",
            "Epoch 50/500\n",
            "1000/1000 [==============================] - 0s - loss: 28.5470     \n",
            "Epoch 51/500\n",
            "1000/1000 [==============================] - 0s - loss: 26.7232     \n",
            "Epoch 52/500\n",
            "1000/1000 [==============================] - 0s - loss: 25.1834     \n",
            "Epoch 53/500\n",
            "1000/1000 [==============================] - 0s - loss: 23.8426     \n",
            "Epoch 54/500\n",
            "1000/1000 [==============================] - 0s - loss: 21.8751     \n",
            "Epoch 55/500\n",
            "1000/1000 [==============================] - 0s - loss: 20.7591     \n",
            "Epoch 56/500\n",
            "1000/1000 [==============================] - 0s - loss: 19.2676     \n",
            "Epoch 57/500\n",
            "1000/1000 [==============================] - 0s - loss: 18.0379     \n",
            "Epoch 58/500\n",
            "1000/1000 [==============================] - 0s - loss: 16.9348     \n",
            "Epoch 59/500\n",
            "1000/1000 [==============================] - 0s - loss: 15.9486     \n",
            "Epoch 60/500\n",
            "1000/1000 [==============================] - 0s - loss: 14.9236     \n",
            "Epoch 61/500\n",
            "1000/1000 [==============================] - 0s - loss: 14.0376     \n",
            "Epoch 62/500\n",
            "1000/1000 [==============================] - 0s - loss: 13.1458     \n",
            "Epoch 63/500\n",
            "1000/1000 [==============================] - 0s - loss: 12.3404     \n",
            "Epoch 64/500\n",
            "1000/1000 [==============================] - 0s - loss: 11.8049     \n",
            "Epoch 65/500\n",
            "1000/1000 [==============================] - 0s - loss: 11.2268     \n",
            "Epoch 66/500\n",
            "1000/1000 [==============================] - 0s - loss: 10.6228     \n",
            "Epoch 67/500\n",
            "1000/1000 [==============================] - 0s - loss: 10.0072     \n",
            "Epoch 68/500\n",
            "1000/1000 [==============================] - 0s - loss: 9.6709      \n",
            "Epoch 69/500\n",
            "1000/1000 [==============================] - 0s - loss: 9.3000     \n",
            "Epoch 70/500\n",
            "1000/1000 [==============================] - 0s - loss: 8.8315     \n",
            "Epoch 71/500\n",
            "1000/1000 [==============================] - 0s - loss: 8.5143      \n",
            "Epoch 72/500\n",
            "1000/1000 [==============================] - 0s - loss: 8.1561     \n",
            "Epoch 73/500\n",
            "1000/1000 [==============================] - 0s - loss: 7.7943     \n",
            "Epoch 74/500\n",
            "1000/1000 [==============================] - 0s - loss: 7.5575     \n",
            "Epoch 75/500\n",
            "1000/1000 [==============================] - 0s - loss: 7.3755     \n",
            "Epoch 76/500\n",
            "1000/1000 [==============================] - 0s - loss: 7.1615      \n",
            "Epoch 77/500\n",
            "1000/1000 [==============================] - 0s - loss: 6.9345     \n",
            "Epoch 78/500\n",
            "1000/1000 [==============================] - 0s - loss: 6.6841      \n",
            "Epoch 79/500\n",
            "1000/1000 [==============================] - 0s - loss: 6.5223     \n",
            "Epoch 80/500\n",
            "1000/1000 [==============================] - 0s - loss: 6.4080     \n",
            "Epoch 81/500\n",
            "1000/1000 [==============================] - 0s - loss: 6.2272     \n",
            "Epoch 82/500\n",
            "1000/1000 [==============================] - 0s - loss: 6.1015     \n",
            "Epoch 83/500\n",
            "1000/1000 [==============================] - 0s - loss: 6.0650     \n",
            "Epoch 84/500\n",
            "1000/1000 [==============================] - 0s - loss: 5.8832     \n",
            "Epoch 85/500\n",
            "1000/1000 [==============================] - 0s - loss: 5.8128     \n",
            "Epoch 86/500\n",
            "1000/1000 [==============================] - 0s - loss: 5.7560     \n",
            "Epoch 87/500\n",
            "1000/1000 [==============================] - 0s - loss: 5.6783     \n",
            "Epoch 88/500\n",
            "1000/1000 [==============================] - 0s - loss: 5.5592     \n",
            "Epoch 89/500\n",
            "1000/1000 [==============================] - 0s - loss: 5.5627     \n",
            "Epoch 90/500\n",
            "1000/1000 [==============================] - 0s - loss: 5.4118     \n",
            "Epoch 91/500\n",
            "1000/1000 [==============================] - 0s - loss: 5.3637     \n",
            "Epoch 92/500\n",
            "1000/1000 [==============================] - 0s - loss: 5.2835     \n",
            "Epoch 93/500\n",
            "1000/1000 [==============================] - 0s - loss: 5.3360     \n",
            "Epoch 94/500\n",
            "1000/1000 [==============================] - 0s - loss: 5.1617     \n",
            "Epoch 95/500\n",
            "1000/1000 [==============================] - 0s - loss: 5.1085     \n",
            "Epoch 96/500\n",
            "1000/1000 [==============================] - 0s - loss: 5.0607     \n",
            "Epoch 97/500\n",
            "1000/1000 [==============================] - 0s - loss: 4.9830     \n",
            "Epoch 98/500\n",
            "1000/1000 [==============================] - 0s - loss: 5.0421     \n",
            "Epoch 99/500\n",
            "1000/1000 [==============================] - 0s - loss: 4.9127     \n",
            "Epoch 100/500\n",
            "1000/1000 [==============================] - 0s - loss: 4.8852     \n",
            "Epoch 101/500\n"
          ],
          "name": "stdout"
        },
        {
          "output_type": "stream",
          "text": [
            "1000/1000 [==============================] - 0s - loss: 4.8677     \n",
            "Epoch 102/500\n",
            "1000/1000 [==============================] - 0s - loss: 4.8637     \n",
            "Epoch 103/500\n",
            "1000/1000 [==============================] - 0s - loss: 4.8245     \n",
            "Epoch 104/500\n",
            "1000/1000 [==============================] - 0s - loss: 4.8683     \n",
            "Epoch 105/500\n",
            "1000/1000 [==============================] - 0s - loss: 4.9132     \n",
            "Epoch 106/500\n",
            "1000/1000 [==============================] - 0s - loss: 4.9013     \n",
            "Epoch 107/500\n",
            "1000/1000 [==============================] - 0s - loss: 4.7889     \n",
            "Epoch 108/500\n",
            "1000/1000 [==============================] - 0s - loss: 4.8447     \n",
            "Epoch 109/500\n",
            "1000/1000 [==============================] - 0s - loss: 4.9082     \n",
            "Epoch 110/500\n",
            "1000/1000 [==============================] - 0s - loss: 4.6536     \n",
            "Epoch 111/500\n",
            "1000/1000 [==============================] - 0s - loss: 4.6294     \n",
            "Epoch 112/500\n",
            "1000/1000 [==============================] - 0s - loss: 4.5681     \n",
            "Epoch 113/500\n",
            "1000/1000 [==============================] - 0s - loss: 4.5952     \n",
            "Epoch 114/500\n",
            "1000/1000 [==============================] - 0s - loss: 4.7166     \n",
            "Epoch 115/500\n",
            "1000/1000 [==============================] - 0s - loss: 4.5260     \n",
            "Epoch 116/500\n",
            "1000/1000 [==============================] - 0s - loss: 4.5128     \n",
            "Epoch 117/500\n",
            "1000/1000 [==============================] - 0s - loss: 4.5269     \n",
            "Epoch 118/500\n",
            "1000/1000 [==============================] - 0s - loss: 4.4203     \n",
            "Epoch 119/500\n",
            "1000/1000 [==============================] - 0s - loss: 4.4029     \n",
            "Epoch 120/500\n",
            "1000/1000 [==============================] - 0s - loss: 4.4706     \n",
            "Epoch 121/500\n",
            "1000/1000 [==============================] - 0s - loss: 4.3687     \n",
            "Epoch 122/500\n",
            "1000/1000 [==============================] - 0s - loss: 4.4871     \n",
            "Epoch 123/500\n",
            "1000/1000 [==============================] - 0s - loss: 4.4460     \n",
            "Epoch 124/500\n",
            "1000/1000 [==============================] - 0s - loss: 4.4242      \n",
            "Epoch 125/500\n",
            "1000/1000 [==============================] - 0s - loss: 4.3100     \n",
            "Epoch 126/500\n",
            "1000/1000 [==============================] - 0s - loss: 4.3582     \n",
            "Epoch 127/500\n",
            "1000/1000 [==============================] - 0s - loss: 4.2396     \n",
            "Epoch 128/500\n",
            "1000/1000 [==============================] - 0s - loss: 4.2398     \n",
            "Epoch 129/500\n",
            "1000/1000 [==============================] - 0s - loss: 4.3402     \n",
            "Epoch 130/500\n",
            "1000/1000 [==============================] - 0s - loss: 4.2851     \n",
            "Epoch 131/500\n",
            "1000/1000 [==============================] - 0s - loss: 4.2871     \n",
            "Epoch 132/500\n",
            "1000/1000 [==============================] - 0s - loss: 4.1374     \n",
            "Epoch 133/500\n",
            "1000/1000 [==============================] - 0s - loss: 4.1798     \n",
            "Epoch 134/500\n",
            "1000/1000 [==============================] - 0s - loss: 4.1072     \n",
            "Epoch 135/500\n",
            "1000/1000 [==============================] - 0s - loss: 4.0898     \n",
            "Epoch 136/500\n",
            "1000/1000 [==============================] - 0s - loss: 4.2193     \n",
            "Epoch 137/500\n",
            "1000/1000 [==============================] - 0s - loss: 4.0836     \n",
            "Epoch 138/500\n",
            "1000/1000 [==============================] - 0s - loss: 4.2061     \n",
            "Epoch 139/500\n",
            "1000/1000 [==============================] - 0s - loss: 4.1604     \n",
            "Epoch 140/500\n",
            "1000/1000 [==============================] - 0s - loss: 4.2689     \n",
            "Epoch 141/500\n",
            "1000/1000 [==============================] - 0s - loss: 4.0181     \n",
            "Epoch 142/500\n",
            "1000/1000 [==============================] - 0s - loss: 3.9951     \n",
            "Epoch 143/500\n",
            "1000/1000 [==============================] - 0s - loss: 3.9625     \n",
            "Epoch 144/500\n",
            "1000/1000 [==============================] - 0s - loss: 4.0739     \n",
            "Epoch 145/500\n",
            "1000/1000 [==============================] - 0s - loss: 4.0493     \n",
            "Epoch 146/500\n",
            "1000/1000 [==============================] - 0s - loss: 3.9486     \n",
            "Epoch 147/500\n",
            "1000/1000 [==============================] - 0s - loss: 3.9416     \n",
            "Epoch 148/500\n",
            "1000/1000 [==============================] - 0s - loss: 3.9197     \n",
            "Epoch 149/500\n",
            "1000/1000 [==============================] - 0s - loss: 3.8818     \n",
            "Epoch 150/500\n",
            "1000/1000 [==============================] - 0s - loss: 3.8683     \n",
            "Epoch 151/500\n",
            "1000/1000 [==============================] - 0s - loss: 3.8562     \n",
            "Epoch 152/500\n",
            "1000/1000 [==============================] - 0s - loss: 3.8911     \n",
            "Epoch 153/500\n",
            "1000/1000 [==============================] - 0s - loss: 3.8727     \n",
            "Epoch 154/500\n",
            "1000/1000 [==============================] - 0s - loss: 3.8077     \n",
            "Epoch 155/500\n",
            "1000/1000 [==============================] - 0s - loss: 3.7925     \n",
            "Epoch 156/500\n",
            "1000/1000 [==============================] - 0s - loss: 4.0218     \n",
            "Epoch 157/500\n",
            "1000/1000 [==============================] - 0s - loss: 3.8886     \n",
            "Epoch 158/500\n",
            "1000/1000 [==============================] - 0s - loss: 3.8590     \n",
            "Epoch 159/500\n",
            "1000/1000 [==============================] - 0s - loss: 3.7750     \n",
            "Epoch 160/500\n",
            "1000/1000 [==============================] - 0s - loss: 3.7153     \n",
            "Epoch 161/500\n",
            "1000/1000 [==============================] - 0s - loss: 3.7789     \n",
            "Epoch 162/500\n",
            "1000/1000 [==============================] - 0s - loss: 3.6972     \n",
            "Epoch 163/500\n",
            "1000/1000 [==============================] - 0s - loss: 3.7852     \n",
            "Epoch 164/500\n",
            "1000/1000 [==============================] - 0s - loss: 3.9137     \n",
            "Epoch 165/500\n",
            "1000/1000 [==============================] - 0s - loss: 3.7757     \n",
            "Epoch 166/500\n",
            "1000/1000 [==============================] - 0s - loss: 3.7121     \n",
            "Epoch 167/500\n",
            "1000/1000 [==============================] - 0s - loss: 3.6128     \n",
            "Epoch 168/500\n",
            "1000/1000 [==============================] - 0s - loss: 3.6979     \n",
            "Epoch 169/500\n",
            "1000/1000 [==============================] - 0s - loss: 3.7182     \n",
            "Epoch 170/500\n",
            "1000/1000 [==============================] - 0s - loss: 3.6607     \n",
            "Epoch 171/500\n",
            "1000/1000 [==============================] - 0s - loss: 3.7135     \n",
            "Epoch 172/500\n",
            "1000/1000 [==============================] - 0s - loss: 3.7005     \n",
            "Epoch 173/500\n",
            "1000/1000 [==============================] - 0s - loss: 3.6847     \n",
            "Epoch 174/500\n",
            "1000/1000 [==============================] - 0s - loss: 3.5800     \n",
            "Epoch 175/500\n",
            "1000/1000 [==============================] - 0s - loss: 3.5944     \n",
            "Epoch 176/500\n",
            "1000/1000 [==============================] - 0s - loss: 3.5405     \n",
            "Epoch 177/500\n",
            "1000/1000 [==============================] - 0s - loss: 3.4973     \n",
            "Epoch 178/500\n",
            "1000/1000 [==============================] - 0s - loss: 3.4858     \n",
            "Epoch 179/500\n",
            "1000/1000 [==============================] - 0s - loss: 3.7552     \n",
            "Epoch 180/500\n",
            "1000/1000 [==============================] - 0s - loss: 3.5572     \n",
            "Epoch 181/500\n",
            "1000/1000 [==============================] - 0s - loss: 3.5114     \n",
            "Epoch 182/500\n",
            "1000/1000 [==============================] - 0s - loss: 3.4984     \n",
            "Epoch 183/500\n",
            "1000/1000 [==============================] - 0s - loss: 3.4358     \n",
            "Epoch 184/500\n",
            "1000/1000 [==============================] - 0s - loss: 3.4941     \n",
            "Epoch 185/500\n",
            "1000/1000 [==============================] - 0s - loss: 3.4647     \n",
            "Epoch 186/500\n",
            "1000/1000 [==============================] - 0s - loss: 3.4272     \n",
            "Epoch 187/500\n",
            "1000/1000 [==============================] - 0s - loss: 3.5066     \n",
            "Epoch 188/500\n",
            "1000/1000 [==============================] - 0s - loss: 3.4788     \n",
            "Epoch 189/500\n",
            "1000/1000 [==============================] - 0s - loss: 3.3987     \n",
            "Epoch 190/500\n",
            "1000/1000 [==============================] - 0s - loss: 3.4025     \n",
            "Epoch 191/500\n",
            "1000/1000 [==============================] - 0s - loss: 3.4148     \n",
            "Epoch 192/500\n",
            "1000/1000 [==============================] - 0s - loss: 3.4137     \n",
            "Epoch 193/500\n",
            "1000/1000 [==============================] - 0s - loss: 3.4160     \n",
            "Epoch 194/500\n",
            "1000/1000 [==============================] - 0s - loss: 3.3546     \n",
            "Epoch 195/500\n",
            "1000/1000 [==============================] - 0s - loss: 3.4184     \n",
            "Epoch 196/500\n",
            "1000/1000 [==============================] - 0s - loss: 3.3594     \n",
            "Epoch 197/500\n",
            "1000/1000 [==============================] - 0s - loss: 3.3617     \n",
            "Epoch 198/500\n",
            "1000/1000 [==============================] - 0s - loss: 3.3012     \n",
            "Epoch 199/500\n",
            "1000/1000 [==============================] - 0s - loss: 3.3063     \n",
            "Epoch 200/500\n",
            "1000/1000 [==============================] - 0s - loss: 3.3359     \n",
            "Epoch 201/500\n"
          ],
          "name": "stdout"
        },
        {
          "output_type": "stream",
          "text": [
            "1000/1000 [==============================] - 0s - loss: 3.3926     \n",
            "Epoch 202/500\n",
            "1000/1000 [==============================] - 0s - loss: 3.2547     \n",
            "Epoch 203/500\n",
            "1000/1000 [==============================] - 0s - loss: 3.2736     \n",
            "Epoch 204/500\n",
            "1000/1000 [==============================] - 0s - loss: 3.3035     \n",
            "Epoch 205/500\n",
            "1000/1000 [==============================] - 0s - loss: 3.2706     \n",
            "Epoch 206/500\n",
            "1000/1000 [==============================] - 0s - loss: 3.3165     \n",
            "Epoch 207/500\n",
            "1000/1000 [==============================] - 0s - loss: 3.2344     \n",
            "Epoch 208/500\n",
            "1000/1000 [==============================] - 0s - loss: 3.4376     \n",
            "Epoch 209/500\n",
            "1000/1000 [==============================] - 0s - loss: 3.2494     \n",
            "Epoch 210/500\n",
            "1000/1000 [==============================] - 0s - loss: 3.3270     \n",
            "Epoch 211/500\n",
            "1000/1000 [==============================] - 0s - loss: 3.3522     \n",
            "Epoch 212/500\n",
            "1000/1000 [==============================] - 0s - loss: 3.2089     \n",
            "Epoch 213/500\n",
            "1000/1000 [==============================] - 0s - loss: 3.1673     \n",
            "Epoch 214/500\n",
            "1000/1000 [==============================] - 0s - loss: 3.3364     \n",
            "Epoch 215/500\n",
            "1000/1000 [==============================] - 0s - loss: 3.2257     \n",
            "Epoch 216/500\n",
            "1000/1000 [==============================] - 0s - loss: 3.2043     \n",
            "Epoch 217/500\n",
            "1000/1000 [==============================] - 0s - loss: 3.2834     \n",
            "Epoch 218/500\n",
            "1000/1000 [==============================] - 0s - loss: 3.1589     \n",
            "Epoch 219/500\n",
            "1000/1000 [==============================] - 0s - loss: 3.1269     \n",
            "Epoch 220/500\n",
            "1000/1000 [==============================] - 0s - loss: 3.1778     \n",
            "Epoch 221/500\n",
            "1000/1000 [==============================] - 0s - loss: 3.1104     \n",
            "Epoch 222/500\n",
            "1000/1000 [==============================] - 0s - loss: 3.1460     \n",
            "Epoch 223/500\n",
            "1000/1000 [==============================] - 0s - loss: 3.1132     \n",
            "Epoch 224/500\n",
            "1000/1000 [==============================] - 0s - loss: 3.1839     \n",
            "Epoch 225/500\n",
            "1000/1000 [==============================] - 0s - loss: 3.1440     \n",
            "Epoch 226/500\n",
            "1000/1000 [==============================] - 0s - loss: 3.1601     \n",
            "Epoch 227/500\n",
            "1000/1000 [==============================] - 0s - loss: 3.0915     \n",
            "Epoch 228/500\n",
            "1000/1000 [==============================] - 0s - loss: 3.2398     \n",
            "Epoch 229/500\n",
            "1000/1000 [==============================] - 0s - loss: 3.0625     \n",
            "Epoch 230/500\n",
            "1000/1000 [==============================] - 0s - loss: 3.1030     \n",
            "Epoch 231/500\n",
            "1000/1000 [==============================] - 0s - loss: 3.1430     \n",
            "Epoch 232/500\n",
            "1000/1000 [==============================] - 0s - loss: 3.0990     \n",
            "Epoch 233/500\n",
            "1000/1000 [==============================] - 0s - loss: 3.0651     \n",
            "Epoch 234/500\n",
            "1000/1000 [==============================] - 0s - loss: 3.0435     \n",
            "Epoch 235/500\n",
            "1000/1000 [==============================] - 0s - loss: 3.0767     \n",
            "Epoch 236/500\n",
            "1000/1000 [==============================] - 0s - loss: 3.1302     \n",
            "Epoch 237/500\n",
            "1000/1000 [==============================] - 0s - loss: 3.1251     \n",
            "Epoch 238/500\n",
            "1000/1000 [==============================] - 0s - loss: 3.0055     \n",
            "Epoch 239/500\n",
            "1000/1000 [==============================] - 0s - loss: 3.0318     \n",
            "Epoch 240/500\n",
            "1000/1000 [==============================] - 0s - loss: 2.9993     \n",
            "Epoch 241/500\n",
            "1000/1000 [==============================] - 0s - loss: 3.0041     \n",
            "Epoch 242/500\n",
            "1000/1000 [==============================] - 0s - loss: 3.0730     \n",
            "Epoch 243/500\n",
            "1000/1000 [==============================] - 0s - loss: 2.9998     \n",
            "Epoch 244/500\n",
            "1000/1000 [==============================] - 0s - loss: 3.0110     \n",
            "Epoch 245/500\n",
            "1000/1000 [==============================] - 0s - loss: 3.0270     \n",
            "Epoch 246/500\n",
            "1000/1000 [==============================] - 0s - loss: 3.0850     \n",
            "Epoch 247/500\n",
            "1000/1000 [==============================] - 0s - loss: 3.0093     \n",
            "Epoch 248/500\n",
            "1000/1000 [==============================] - 0s - loss: 2.9977     \n",
            "Epoch 249/500\n",
            "1000/1000 [==============================] - 0s - loss: 2.9602     \n",
            "Epoch 250/500\n",
            "1000/1000 [==============================] - 0s - loss: 3.0197     \n",
            "Epoch 251/500\n",
            "1000/1000 [==============================] - 0s - loss: 2.9254     \n",
            "Epoch 252/500\n",
            "1000/1000 [==============================] - 0s - loss: 3.0530     \n",
            "Epoch 253/500\n",
            "1000/1000 [==============================] - 0s - loss: 3.0049     \n",
            "Epoch 254/500\n",
            "1000/1000 [==============================] - 0s - loss: 2.9770     \n",
            "Epoch 255/500\n",
            "1000/1000 [==============================] - 0s - loss: 2.9186     \n",
            "Epoch 256/500\n",
            "1000/1000 [==============================] - 0s - loss: 2.9853     \n",
            "Epoch 257/500\n",
            "1000/1000 [==============================] - 0s - loss: 2.9239     \n",
            "Epoch 258/500\n",
            "1000/1000 [==============================] - 0s - loss: 2.8810     \n",
            "Epoch 259/500\n",
            "1000/1000 [==============================] - 0s - loss: 2.8922     \n",
            "Epoch 260/500\n",
            "1000/1000 [==============================] - 0s - loss: 3.0179     \n",
            "Epoch 261/500\n",
            "1000/1000 [==============================] - 0s - loss: 2.8791     \n",
            "Epoch 262/500\n",
            "1000/1000 [==============================] - 0s - loss: 2.8656     \n",
            "Epoch 263/500\n",
            "1000/1000 [==============================] - 0s - loss: 2.9391     \n",
            "Epoch 264/500\n",
            "1000/1000 [==============================] - 0s - loss: 2.8839     \n",
            "Epoch 265/500\n",
            "1000/1000 [==============================] - 0s - loss: 2.8917     \n",
            "Epoch 266/500\n",
            "1000/1000 [==============================] - 0s - loss: 2.8470     \n",
            "Epoch 267/500\n",
            "1000/1000 [==============================] - 0s - loss: 2.8974     \n",
            "Epoch 268/500\n",
            "1000/1000 [==============================] - 0s - loss: 2.9601     \n",
            "Epoch 269/500\n",
            "1000/1000 [==============================] - 0s - loss: 2.8911     \n",
            "Epoch 270/500\n",
            "1000/1000 [==============================] - 0s - loss: 2.9621     \n",
            "Epoch 271/500\n",
            "1000/1000 [==============================] - 0s - loss: 2.9642     \n",
            "Epoch 272/500\n",
            "1000/1000 [==============================] - 0s - loss: 2.9367     \n",
            "Epoch 273/500\n",
            "1000/1000 [==============================] - 0s - loss: 2.8457     \n",
            "Epoch 274/500\n",
            "1000/1000 [==============================] - 0s - loss: 2.7949     \n",
            "Epoch 275/500\n",
            "1000/1000 [==============================] - 0s - loss: 2.8011     \n",
            "Epoch 276/500\n",
            "1000/1000 [==============================] - 0s - loss: 2.8425     \n",
            "Epoch 277/500\n",
            "1000/1000 [==============================] - 0s - loss: 2.8480     \n",
            "Epoch 278/500\n",
            "1000/1000 [==============================] - 0s - loss: 2.8271     \n",
            "Epoch 279/500\n",
            "1000/1000 [==============================] - 0s - loss: 2.7993     \n",
            "Epoch 280/500\n",
            "1000/1000 [==============================] - 0s - loss: 2.8657     \n",
            "Epoch 281/500\n",
            "1000/1000 [==============================] - 0s - loss: 2.8018     \n",
            "Epoch 282/500\n",
            "1000/1000 [==============================] - 0s - loss: 2.8191     \n",
            "Epoch 283/500\n",
            "1000/1000 [==============================] - 0s - loss: 2.8423     \n",
            "Epoch 284/500\n",
            "1000/1000 [==============================] - 0s - loss: 2.8174     \n",
            "Epoch 285/500\n",
            "1000/1000 [==============================] - 0s - loss: 2.7650     \n",
            "Epoch 286/500\n",
            "1000/1000 [==============================] - 0s - loss: 2.7497     \n",
            "Epoch 287/500\n",
            "1000/1000 [==============================] - 0s - loss: 2.7762     \n",
            "Epoch 288/500\n",
            "1000/1000 [==============================] - 0s - loss: 2.8949     \n",
            "Epoch 289/500\n",
            "1000/1000 [==============================] - 0s - loss: 2.8203     \n",
            "Epoch 290/500\n",
            "1000/1000 [==============================] - 0s - loss: 2.8339     \n",
            "Epoch 291/500\n",
            "1000/1000 [==============================] - 0s - loss: 2.8563     \n",
            "Epoch 292/500\n",
            "1000/1000 [==============================] - 0s - loss: 2.8013     \n",
            "Epoch 293/500\n",
            "1000/1000 [==============================] - 0s - loss: 2.7228     \n",
            "Epoch 294/500\n",
            "1000/1000 [==============================] - 0s - loss: 2.7690     \n",
            "Epoch 295/500\n",
            "1000/1000 [==============================] - 0s - loss: 2.7872     \n",
            "Epoch 296/500\n",
            "1000/1000 [==============================] - 0s - loss: 2.8108     \n",
            "Epoch 297/500\n",
            "1000/1000 [==============================] - 0s - loss: 2.7312     \n",
            "Epoch 298/500\n",
            "1000/1000 [==============================] - 0s - loss: 2.7033     \n",
            "Epoch 299/500\n",
            "1000/1000 [==============================] - 0s - loss: 2.7905     \n",
            "Epoch 300/500\n",
            "1000/1000 [==============================] - 0s - loss: 2.8032     \n",
            "Epoch 301/500\n"
          ],
          "name": "stdout"
        },
        {
          "output_type": "stream",
          "text": [
            "1000/1000 [==============================] - 0s - loss: 2.7308     \n",
            "Epoch 302/500\n",
            "1000/1000 [==============================] - 0s - loss: 2.7460     \n",
            "Epoch 303/500\n",
            "1000/1000 [==============================] - 0s - loss: 2.7184     \n",
            "Epoch 304/500\n",
            "1000/1000 [==============================] - 0s - loss: 2.6950     \n",
            "Epoch 305/500\n",
            "1000/1000 [==============================] - 0s - loss: 2.6789     \n",
            "Epoch 306/500\n",
            "1000/1000 [==============================] - 0s - loss: 2.7048     \n",
            "Epoch 307/500\n",
            "1000/1000 [==============================] - 0s - loss: 2.7111     \n",
            "Epoch 308/500\n",
            "1000/1000 [==============================] - 0s - loss: 2.6990     \n",
            "Epoch 309/500\n",
            "1000/1000 [==============================] - 0s - loss: 2.6688     \n",
            "Epoch 310/500\n",
            "1000/1000 [==============================] - 0s - loss: 2.6977     \n",
            "Epoch 311/500\n",
            "1000/1000 [==============================] - 0s - loss: 2.7256     \n",
            "Epoch 312/500\n",
            "1000/1000 [==============================] - 0s - loss: 2.8156     \n",
            "Epoch 313/500\n",
            "1000/1000 [==============================] - 0s - loss: 2.6751     \n",
            "Epoch 314/500\n",
            "1000/1000 [==============================] - 0s - loss: 2.7248     \n",
            "Epoch 315/500\n",
            "1000/1000 [==============================] - 0s - loss: 2.6830     \n",
            "Epoch 316/500\n",
            "1000/1000 [==============================] - 0s - loss: 2.6600     \n",
            "Epoch 317/500\n",
            "1000/1000 [==============================] - 0s - loss: 2.6817     \n",
            "Epoch 318/500\n",
            "1000/1000 [==============================] - 0s - loss: 2.6921     \n",
            "Epoch 319/500\n",
            "1000/1000 [==============================] - 0s - loss: 2.6357     \n",
            "Epoch 320/500\n",
            "1000/1000 [==============================] - 0s - loss: 2.7308     \n",
            "Epoch 321/500\n",
            "1000/1000 [==============================] - 0s - loss: 2.6467     \n",
            "Epoch 322/500\n",
            "1000/1000 [==============================] - 0s - loss: 2.6594     \n",
            "Epoch 323/500\n",
            "1000/1000 [==============================] - 0s - loss: 2.6557     \n",
            "Epoch 324/500\n",
            "1000/1000 [==============================] - 0s - loss: 2.6331     \n",
            "Epoch 325/500\n",
            "1000/1000 [==============================] - 0s - loss: 2.6376     \n",
            "Epoch 326/500\n",
            "1000/1000 [==============================] - 0s - loss: 2.7239     \n",
            "Epoch 327/500\n",
            "1000/1000 [==============================] - 0s - loss: 2.6995     \n",
            "Epoch 328/500\n",
            "1000/1000 [==============================] - 0s - loss: 2.6913     \n",
            "Epoch 329/500\n",
            "1000/1000 [==============================] - 0s - loss: 2.6293     \n",
            "Epoch 330/500\n",
            "1000/1000 [==============================] - 0s - loss: 2.7293     \n",
            "Epoch 331/500\n",
            "1000/1000 [==============================] - 0s - loss: 2.6792     \n",
            "Epoch 332/500\n",
            "1000/1000 [==============================] - 0s - loss: 2.6226     \n",
            "Epoch 333/500\n",
            "1000/1000 [==============================] - 0s - loss: 2.6200     \n",
            "Epoch 334/500\n",
            "1000/1000 [==============================] - 0s - loss: 2.6727     \n",
            "Epoch 335/500\n",
            "1000/1000 [==============================] - 0s - loss: 2.5839     \n",
            "Epoch 336/500\n",
            "1000/1000 [==============================] - 0s - loss: 2.5910     \n",
            "Epoch 337/500\n",
            "1000/1000 [==============================] - 0s - loss: 2.5975     \n",
            "Epoch 338/500\n",
            "1000/1000 [==============================] - 0s - loss: 2.6230     \n",
            "Epoch 339/500\n",
            "1000/1000 [==============================] - 0s - loss: 2.5856     \n",
            "Epoch 340/500\n",
            "1000/1000 [==============================] - 0s - loss: 2.6607     \n",
            "Epoch 341/500\n",
            "1000/1000 [==============================] - 0s - loss: 2.6564     \n",
            "Epoch 342/500\n",
            "1000/1000 [==============================] - 0s - loss: 2.5670     \n",
            "Epoch 343/500\n",
            "1000/1000 [==============================] - 0s - loss: 2.6003     \n",
            "Epoch 344/500\n",
            "1000/1000 [==============================] - 0s - loss: 2.5714     \n",
            "Epoch 345/500\n",
            "1000/1000 [==============================] - 0s - loss: 2.5485     \n",
            "Epoch 346/500\n",
            "1000/1000 [==============================] - 0s - loss: 2.6008     \n",
            "Epoch 347/500\n",
            "1000/1000 [==============================] - 0s - loss: 2.5787     \n",
            "Epoch 348/500\n",
            "1000/1000 [==============================] - 0s - loss: 2.5627     \n",
            "Epoch 349/500\n",
            "1000/1000 [==============================] - 0s - loss: 2.6032     \n",
            "Epoch 350/500\n",
            "1000/1000 [==============================] - 0s - loss: 2.5453     \n",
            "Epoch 351/500\n",
            "1000/1000 [==============================] - 0s - loss: 2.6415     \n",
            "Epoch 352/500\n",
            "1000/1000 [==============================] - 0s - loss: 2.6044     \n",
            "Epoch 353/500\n",
            "1000/1000 [==============================] - 0s - loss: 2.5444     \n",
            "Epoch 354/500\n",
            "1000/1000 [==============================] - 0s - loss: 2.4957     \n",
            "Epoch 355/500\n",
            "1000/1000 [==============================] - 0s - loss: 2.5624     \n",
            "Epoch 356/500\n",
            "1000/1000 [==============================] - 0s - loss: 2.5405     \n",
            "Epoch 357/500\n",
            "1000/1000 [==============================] - 0s - loss: 2.5035     \n",
            "Epoch 358/500\n",
            "1000/1000 [==============================] - 0s - loss: 2.5332     \n",
            "Epoch 359/500\n",
            "1000/1000 [==============================] - 0s - loss: 2.5602     \n",
            "Epoch 360/500\n",
            "1000/1000 [==============================] - 0s - loss: 2.5117     \n",
            "Epoch 361/500\n",
            "1000/1000 [==============================] - 0s - loss: 2.5462     \n",
            "Epoch 362/500\n",
            "1000/1000 [==============================] - 0s - loss: 2.5046     \n",
            "Epoch 363/500\n",
            "1000/1000 [==============================] - 0s - loss: 2.5494     \n",
            "Epoch 364/500\n",
            "1000/1000 [==============================] - 0s - loss: 2.5649     \n",
            "Epoch 365/500\n",
            "1000/1000 [==============================] - 0s - loss: 2.5560     \n",
            "Epoch 366/500\n",
            "1000/1000 [==============================] - 0s - loss: 2.6398     \n",
            "Epoch 367/500\n",
            "1000/1000 [==============================] - 0s - loss: 2.5246     \n",
            "Epoch 368/500\n",
            "1000/1000 [==============================] - 0s - loss: 2.4941     \n",
            "Epoch 369/500\n",
            "1000/1000 [==============================] - 0s - loss: 2.4908     \n",
            "Epoch 370/500\n",
            "1000/1000 [==============================] - 0s - loss: 2.4866     \n",
            "Epoch 371/500\n",
            "1000/1000 [==============================] - 0s - loss: 2.4936     \n",
            "Epoch 372/500\n",
            "1000/1000 [==============================] - 0s - loss: 2.5295     \n",
            "Epoch 373/500\n",
            "1000/1000 [==============================] - 0s - loss: 2.5238     \n",
            "Epoch 374/500\n",
            "1000/1000 [==============================] - 0s - loss: 2.4810     \n",
            "Epoch 375/500\n",
            "1000/1000 [==============================] - 0s - loss: 2.5023     \n",
            "Epoch 376/500\n",
            "1000/1000 [==============================] - 0s - loss: 2.4834     \n",
            "Epoch 377/500\n",
            "1000/1000 [==============================] - 0s - loss: 2.4704     \n",
            "Epoch 378/500\n",
            "1000/1000 [==============================] - 0s - loss: 2.5146     \n",
            "Epoch 379/500\n",
            "1000/1000 [==============================] - 0s - loss: 2.4778     \n",
            "Epoch 380/500\n",
            "1000/1000 [==============================] - 0s - loss: 2.4957     \n",
            "Epoch 381/500\n",
            "1000/1000 [==============================] - 0s - loss: 2.4572     \n",
            "Epoch 382/500\n",
            "1000/1000 [==============================] - 0s - loss: 2.4671     \n",
            "Epoch 383/500\n",
            "1000/1000 [==============================] - 0s - loss: 2.5289     \n",
            "Epoch 384/500\n",
            "1000/1000 [==============================] - 0s - loss: 2.4382     \n",
            "Epoch 385/500\n",
            "1000/1000 [==============================] - 0s - loss: 2.5375     \n",
            "Epoch 386/500\n",
            "1000/1000 [==============================] - 0s - loss: 2.5293     \n",
            "Epoch 387/500\n",
            "1000/1000 [==============================] - 0s - loss: 2.5026     \n",
            "Epoch 388/500\n",
            "1000/1000 [==============================] - 0s - loss: 2.4394     \n",
            "Epoch 389/500\n",
            "1000/1000 [==============================] - 0s - loss: 2.4543     \n",
            "Epoch 390/500\n",
            "1000/1000 [==============================] - 0s - loss: 2.4853     \n",
            "Epoch 391/500\n",
            "1000/1000 [==============================] - 0s - loss: 2.4445     \n",
            "Epoch 392/500\n",
            "1000/1000 [==============================] - 0s - loss: 2.4530     \n",
            "Epoch 393/500\n",
            "1000/1000 [==============================] - 0s - loss: 2.4419     \n",
            "Epoch 394/500\n",
            "1000/1000 [==============================] - 0s - loss: 2.5184     \n",
            "Epoch 395/500\n",
            "1000/1000 [==============================] - 0s - loss: 2.4664     \n",
            "Epoch 396/500\n",
            "1000/1000 [==============================] - 0s - loss: 2.6302     \n",
            "Epoch 397/500\n",
            "1000/1000 [==============================] - 0s - loss: 2.4201     \n",
            "Epoch 398/500\n",
            "1000/1000 [==============================] - 0s - loss: 2.4155     \n",
            "Epoch 399/500\n",
            "1000/1000 [==============================] - 0s - loss: 2.4139     \n",
            "Epoch 400/500\n",
            "1000/1000 [==============================] - 0s - loss: 2.4193     \n",
            "Epoch 401/500\n"
          ],
          "name": "stdout"
        },
        {
          "output_type": "stream",
          "text": [
            "1000/1000 [==============================] - 0s - loss: 2.4867     \n",
            "Epoch 402/500\n",
            "1000/1000 [==============================] - 0s - loss: 2.4595     \n",
            "Epoch 403/500\n",
            "1000/1000 [==============================] - 0s - loss: 2.4559     \n",
            "Epoch 404/500\n",
            "1000/1000 [==============================] - 0s - loss: 2.4677     \n",
            "Epoch 405/500\n",
            "1000/1000 [==============================] - 0s - loss: 2.3951     \n",
            "Epoch 406/500\n",
            "1000/1000 [==============================] - 0s - loss: 2.3965     \n",
            "Epoch 407/500\n",
            "1000/1000 [==============================] - 0s - loss: 2.4074     \n",
            "Epoch 408/500\n",
            "1000/1000 [==============================] - 0s - loss: 2.4448     \n",
            "Epoch 409/500\n",
            "1000/1000 [==============================] - 0s - loss: 2.4720     \n",
            "Epoch 410/500\n",
            "1000/1000 [==============================] - 0s - loss: 2.3799     \n",
            "Epoch 411/500\n",
            "1000/1000 [==============================] - 0s - loss: 2.4909     \n",
            "Epoch 412/500\n",
            "1000/1000 [==============================] - 0s - loss: 2.3756     \n",
            "Epoch 413/500\n",
            "1000/1000 [==============================] - 0s - loss: 2.4371     \n",
            "Epoch 414/500\n",
            "1000/1000 [==============================] - 0s - loss: 2.4307     \n",
            "Epoch 415/500\n",
            "1000/1000 [==============================] - 0s - loss: 2.4251     \n",
            "Epoch 416/500\n",
            "1000/1000 [==============================] - 0s - loss: 2.4466     \n",
            "Epoch 417/500\n",
            "1000/1000 [==============================] - 0s - loss: 2.3887     \n",
            "Epoch 418/500\n",
            "1000/1000 [==============================] - 0s - loss: 2.3738     \n",
            "Epoch 419/500\n",
            "1000/1000 [==============================] - 0s - loss: 2.4114     \n",
            "Epoch 420/500\n",
            "1000/1000 [==============================] - 0s - loss: 2.3888     \n",
            "Epoch 421/500\n",
            "1000/1000 [==============================] - 0s - loss: 2.4137     \n",
            "Epoch 422/500\n",
            "1000/1000 [==============================] - 0s - loss: 2.3931     \n",
            "Epoch 423/500\n",
            "1000/1000 [==============================] - 0s - loss: 2.4349     \n",
            "Epoch 424/500\n",
            "1000/1000 [==============================] - 0s - loss: 2.3612     \n",
            "Epoch 425/500\n",
            "1000/1000 [==============================] - 0s - loss: 2.3575     \n",
            "Epoch 426/500\n",
            "1000/1000 [==============================] - 0s - loss: 2.3514     \n",
            "Epoch 427/500\n",
            "1000/1000 [==============================] - 0s - loss: 2.3402     \n",
            "Epoch 428/500\n",
            "1000/1000 [==============================] - 0s - loss: 2.3490     \n",
            "Epoch 429/500\n",
            "1000/1000 [==============================] - 0s - loss: 2.3517     \n",
            "Epoch 430/500\n",
            "1000/1000 [==============================] - 0s - loss: 2.3263     \n",
            "Epoch 431/500\n",
            "1000/1000 [==============================] - 0s - loss: 2.3489     \n",
            "Epoch 432/500\n",
            "1000/1000 [==============================] - 0s - loss: 2.3691     \n",
            "Epoch 433/500\n",
            "1000/1000 [==============================] - 0s - loss: 2.3440     \n",
            "Epoch 434/500\n",
            "1000/1000 [==============================] - 0s - loss: 2.3423     \n",
            "Epoch 435/500\n",
            "1000/1000 [==============================] - 0s - loss: 2.3500     \n",
            "Epoch 436/500\n",
            "1000/1000 [==============================] - 0s - loss: 2.3314     \n",
            "Epoch 437/500\n",
            "1000/1000 [==============================] - 0s - loss: 2.3319     \n",
            "Epoch 438/500\n",
            "1000/1000 [==============================] - 0s - loss: 2.3584     \n",
            "Epoch 439/500\n",
            "1000/1000 [==============================] - 0s - loss: 2.3658     \n",
            "Epoch 440/500\n",
            "1000/1000 [==============================] - 0s - loss: 2.3230     \n",
            "Epoch 441/500\n",
            "1000/1000 [==============================] - 0s - loss: 2.3600     \n",
            "Epoch 442/500\n",
            "1000/1000 [==============================] - 0s - loss: 2.3716     \n",
            "Epoch 443/500\n",
            "1000/1000 [==============================] - 0s - loss: 2.3084     \n",
            "Epoch 444/500\n",
            "1000/1000 [==============================] - 0s - loss: 2.2857     \n",
            "Epoch 445/500\n",
            "1000/1000 [==============================] - 0s - loss: 2.3353     \n",
            "Epoch 446/500\n",
            "1000/1000 [==============================] - 0s - loss: 2.4465     \n",
            "Epoch 447/500\n",
            "1000/1000 [==============================] - 0s - loss: 2.3705     \n",
            "Epoch 448/500\n",
            "1000/1000 [==============================] - 0s - loss: 2.3221     \n",
            "Epoch 449/500\n",
            "1000/1000 [==============================] - 0s - loss: 2.2780     \n",
            "Epoch 450/500\n",
            "1000/1000 [==============================] - 0s - loss: 2.3234     \n",
            "Epoch 451/500\n",
            "1000/1000 [==============================] - 0s - loss: 2.3201     \n",
            "Epoch 452/500\n",
            "1000/1000 [==============================] - 0s - loss: 2.2978     \n",
            "Epoch 453/500\n",
            "1000/1000 [==============================] - 0s - loss: 2.2578     \n",
            "Epoch 454/500\n",
            "1000/1000 [==============================] - 0s - loss: 2.2790     \n",
            "Epoch 455/500\n",
            "1000/1000 [==============================] - 0s - loss: 2.2881     \n",
            "Epoch 456/500\n",
            "1000/1000 [==============================] - 0s - loss: 2.3084     \n",
            "Epoch 457/500\n",
            "1000/1000 [==============================] - 0s - loss: 2.4241     \n",
            "Epoch 458/500\n",
            "1000/1000 [==============================] - 0s - loss: 2.3743     \n",
            "Epoch 459/500\n",
            "1000/1000 [==============================] - 0s - loss: 2.3396     \n",
            "Epoch 460/500\n",
            "1000/1000 [==============================] - 0s - loss: 2.2693     \n",
            "Epoch 461/500\n",
            "1000/1000 [==============================] - 0s - loss: 2.2779     \n",
            "Epoch 462/500\n",
            "1000/1000 [==============================] - 0s - loss: 2.2627     \n",
            "Epoch 463/500\n",
            "1000/1000 [==============================] - 0s - loss: 2.2526     \n",
            "Epoch 464/500\n",
            "1000/1000 [==============================] - 0s - loss: 2.2815     \n",
            "Epoch 465/500\n",
            "1000/1000 [==============================] - 0s - loss: 2.3090     \n",
            "Epoch 466/500\n",
            "1000/1000 [==============================] - 0s - loss: 2.3055     \n",
            "Epoch 467/500\n",
            "1000/1000 [==============================] - 0s - loss: 2.2802     \n",
            "Epoch 468/500\n",
            "1000/1000 [==============================] - 0s - loss: 2.2956     \n",
            "Epoch 469/500\n",
            "1000/1000 [==============================] - 0s - loss: 2.2369     \n",
            "Epoch 470/500\n",
            "1000/1000 [==============================] - 0s - loss: 2.2430     \n",
            "Epoch 471/500\n",
            "1000/1000 [==============================] - 0s - loss: 2.2793     \n",
            "Epoch 472/500\n",
            "1000/1000 [==============================] - 0s - loss: 2.2618     \n",
            "Epoch 473/500\n",
            "1000/1000 [==============================] - 0s - loss: 2.3359     \n",
            "Epoch 474/500\n",
            "1000/1000 [==============================] - 0s - loss: 2.2538     \n",
            "Epoch 475/500\n",
            "1000/1000 [==============================] - 0s - loss: 2.3583     \n",
            "Epoch 476/500\n",
            "1000/1000 [==============================] - 0s - loss: 2.2219     \n",
            "Epoch 477/500\n",
            "1000/1000 [==============================] - 0s - loss: 2.2305     \n",
            "Epoch 478/500\n",
            "1000/1000 [==============================] - 0s - loss: 2.2304     \n",
            "Epoch 479/500\n",
            "1000/1000 [==============================] - 0s - loss: 2.2110     \n",
            "Epoch 480/500\n",
            "1000/1000 [==============================] - 0s - loss: 2.2437     \n",
            "Epoch 481/500\n",
            "1000/1000 [==============================] - 0s - loss: 2.2223     \n",
            "Epoch 482/500\n",
            "1000/1000 [==============================] - 0s - loss: 2.1867     \n",
            "Epoch 483/500\n",
            "1000/1000 [==============================] - 0s - loss: 2.3607     \n",
            "Epoch 484/500\n",
            "1000/1000 [==============================] - 0s - loss: 2.2474     \n",
            "Epoch 485/500\n",
            "1000/1000 [==============================] - 0s - loss: 2.2224     \n",
            "Epoch 486/500\n",
            "1000/1000 [==============================] - 0s - loss: 2.2485     \n",
            "Epoch 487/500\n",
            "1000/1000 [==============================] - 0s - loss: 2.2497     \n",
            "Epoch 488/500\n",
            "1000/1000 [==============================] - 0s - loss: 2.2059     \n",
            "Epoch 489/500\n",
            "1000/1000 [==============================] - 0s - loss: 2.2114     \n",
            "Epoch 490/500\n",
            "1000/1000 [==============================] - 0s - loss: 2.2202     \n",
            "Epoch 491/500\n",
            "1000/1000 [==============================] - 0s - loss: 2.1947     \n",
            "Epoch 492/500\n",
            "1000/1000 [==============================] - 0s - loss: 2.3647     \n",
            "Epoch 493/500\n",
            "1000/1000 [==============================] - 0s - loss: 2.1689     \n",
            "Epoch 494/500\n",
            "1000/1000 [==============================] - 0s - loss: 2.1740     \n",
            "Epoch 495/500\n",
            "1000/1000 [==============================] - 0s - loss: 2.2811     \n",
            "Epoch 496/500\n",
            "1000/1000 [==============================] - 0s - loss: 2.2388     \n",
            "Epoch 497/500\n",
            "1000/1000 [==============================] - 0s - loss: 2.1789     \n",
            "Epoch 498/500\n",
            "1000/1000 [==============================] - 0s - loss: 2.1625     \n",
            "Epoch 499/500\n",
            "1000/1000 [==============================] - 0s - loss: 2.1874     \n",
            "Epoch 500/500\n",
            "1000/1000 [==============================] - 0s - loss: 2.1534     \n"
          ],
          "name": "stdout"
        },
        {
          "output_type": "execute_result",
          "data": {
            "text/plain": [
              "<keras.callbacks.History at 0x7efe0ccbd208>"
            ]
          },
          "metadata": {
            "tags": []
          },
          "execution_count": 42
        }
      ]
    },
    {
      "cell_type": "code",
      "metadata": {
        "id": "PupWWvfTYakm",
        "colab_type": "code",
        "outputId": "2270231d-5a21-406f-af05-4d9485c3787c",
        "colab": {}
      },
      "source": [
        "plt.figure(figsize=(10,5))\n",
        "plt.plot(X,y, label='true function')\n",
        "plt.plot(X, model.predict(X), label='predicted function')\n",
        "plt.legend()\n",
        "plt.show()"
      ],
      "execution_count": 0,
      "outputs": [
        {
          "output_type": "display_data",
          "data": {
            "image/png": "[encoded data removed]",
            "text/plain": [
              "<Figure size 720x360 with 1 Axes>"
            ]
          },
          "metadata": {
            "tags": [],
            "needs_background": "light"
          }
        }
      ]
    },
    {
      "cell_type": "markdown",
      "metadata": {
        "id": "kFVfyxNSYakt",
        "colab_type": "text"
      },
      "source": [
        "Построим на Keras более сложную модель. Это можно сделать так: создать слои, применять слои к предыдущим слоям, затем явно указать входы и выходы модели. Например:"
      ]
    },
    {
      "cell_type": "code",
      "metadata": {
        "id": "TcYQ27fhYaku",
        "colab_type": "code",
        "colab": {}
      },
      "source": [
        "l_inp = L.Input([64])\n",
        "\n",
        "l_dense1 = L.Dense(50, activation='sigmoid')(l_inp)\n",
        "l_dense2 = L.Dense(100, activation='relu')(l_input)\n",
        "\n",
        "l_concat = L.Concatenate()([l_dense1, l_dense2])\n",
        "l_pre_output = L.Dense(100)(l_concat)\n",
        "l_out = L.Activation('softmax')(l_output)\n",
        "\n",
        "model = keras.models.Model(inputs=[l_inp], outputs=[l_out])\n",
        "model.compile(op)"
      ],
      "execution_count": 0,
      "outputs": []
    },
    {
      "cell_type": "markdown",
      "metadata": {
        "id": "wkBHIkxeYakz",
        "colab_type": "text"
      },
      "source": [
        "### Как выстрелить себе в ногу с Keras"
      ]
    },
    {
      "cell_type": "markdown",
      "metadata": {
        "id": "g2gzvdhZYakz",
        "colab_type": "text"
      },
      "source": [
        "* __Задача:__ Предсказать цену дома в $mil\n",
        "* __Вход:__ 39 признаков этого дома"
      ]
    },
    {
      "cell_type": "code",
      "metadata": {
        "id": "fooiDgGuYak1",
        "colab_type": "code",
        "colab": {}
      },
      "source": [
        "model = keras.models.Sequential()\n",
        "model.add(L.InputLayer([39]))\n",
        "model.add(L.BatchNormalization())\n",
        "model.add(L.Dense(128, kernel_initializer=keras.initializers.zeros()))\n",
        "model.add(L.Dense(128, kernel_initializer=keras.initializers.zeros()))\n",
        "model.add(L.Dense(1))\n",
        "\n",
        "model.compile(optimizer='sgd', loss='mean_squared_error')"
      ],
      "execution_count": 0,
      "outputs": []
    },
    {
      "cell_type": "code",
      "metadata": {
        "id": "QOu2p3slYak5",
        "colab_type": "code",
        "colab": {}
      },
      "source": [
        "model = keras.models.Sequential()\n",
        "model.add(L.InputLayer([39]))\n",
        "model.add(L.BatchNormalization()) #<- можно просто нормализовать входы \n",
        "model.add(L.Dense(128, kernel_initializer=keras.initializers.zeros())) #<-инициализация нулями\n",
        "model.add(L.Dense(128, kernel_initializer=keras.initializers.zeros())) #<-\n",
        "model.add(L.Dense(1)) #<- три линейных слоя подряд ни к чему не приведут\n",
        "\n",
        "model.compile(optimizer='sgd', loss='mean_squared_error') "
      ],
      "execution_count": 0,
      "outputs": []
    },
    {
      "cell_type": "markdown",
      "metadata": {
        "id": "WjuEG1_aYak-",
        "colab_type": "text"
      },
      "source": [
        "* __Задача:__ Распознать рукописную цифру (0-9)\n",
        "* __Вход:__ картинка 28 x 28 пикселей (ч/б)"
      ]
    },
    {
      "cell_type": "code",
      "metadata": {
        "id": "fwJkTX04YalC",
        "colab_type": "code",
        "colab": {}
      },
      "source": [
        "model = keras.models.Sequential()\n",
        "model.add(L.InputLayer([28, 28, 1]))\n",
        "model.add(L.Conv2D(filters=512, kernel_size=(3, 3)))\n",
        "model.add(L.Activation('relu'))\n",
        "model.add(L.MaxPool2D(pool_size=(2, 2)))\n",
        "model.add(L.Flatten())\n",
        "model.add(L.Dense(100))\n",
        "model.add(L.Activation('relu'))\n",
        "model.add(L.Dropout(0.1))\n",
        "model.add(L.Dense(10))\n",
        "model.add(L.Activation('softmax'))\n",
        "model.add(L.Dropout(0.1))\n",
        "\n",
        "model.compile(optimizer='rmsprop', loss='mean_squared_error')"
      ],
      "execution_count": 0,
      "outputs": []
    },
    {
      "cell_type": "code",
      "metadata": {
        "id": "_w8l-YanYalN",
        "colab_type": "code",
        "colab": {}
      },
      "source": [
        "model = keras.models.Sequential()\n",
        "model.add(L.InputLayer([28, 28, 1]))\n",
        "model.add(L.Conv2D(filters=512, kernel_size=(3, 3)))\n",
        "# ^ многовато фильтров, вряд ли найдётся 512 значимо разных 3x3 карты\n",
        "model.add(L.Activation('relu'))\n",
        "model.add(L.MaxPool2D(pool_size=(2, 2)))\n",
        "# ^ relu и max pool можно переставить местами, будет то же самое чуть быстрее (не ошибка)\n",
        "model.add(L.Flatten())\n",
        "model.add(L.Dense(100))\n",
        "model.add(L.Activation('relu'))\n",
        "model.add(L.Dropout(0.1)) # < хороший, годный дропаут\n",
        "model.add(L.Dense(10))\n",
        "model.add(L.Activation('softmax'))\n",
        "model.add(L.Dropout(0.1))\n",
        "# ^ не стоит dropout-ить вероятности на выходе, рискуете получить бесконечный лосс\n",
        "model.compile(optimizer='rmsprop', loss='mean_squared_error')\n",
        "# ^ обучать классификацию по квадратичной ошибке можно, но... это безбожно"
      ],
      "execution_count": 0,
      "outputs": []
    },
    {
      "cell_type": "markdown",
      "metadata": {
        "id": "tVuePE0lYalU",
        "colab_type": "text"
      },
      "source": [
        "* __Задача:__ классификация одежды (10 классов)\n",
        "* __Вход:__ картинка RGB 100 x 100 пикселей"
      ]
    },
    {
      "cell_type": "code",
      "metadata": {
        "id": "amxMYpzIYalX",
        "colab_type": "code",
        "colab": {}
      },
      "source": [
        "model = keras.models.Sequential()\n",
        "model.add(L.InputLayer([100, 100, 3]))\n",
        "\n",
        "for filters in [32, 64, 128, 256]:\n",
        "    model.add(L.Conv2D(filters, kernel_size=(5, 5)))\n",
        "    model.add(L.Conv2D(filters, kernel_size=(1, 1)))\n",
        "    model.add(L.MaxPooling2D(pool_size=(3, 3)))\n",
        "    model.add(L.Activation('relu'))\n",
        "    model.add(L.BatchNormalization())\n",
        "\n",
        "model.add(L.Flatten())\n",
        "\n",
        "model.add(L.Dense(100, activation='relu'))\n",
        "model.add(L.Dropout(0.5))\n",
        "model.add(L.Dense(10, activation='softmax'))\n",
        "\n",
        "model.compile(optimizer='adam', loss='sparse_categorical_accuracy')"
      ],
      "execution_count": 0,
      "outputs": []
    },
    {
      "cell_type": "code",
      "metadata": {
        "id": "mVAAktnmYalh",
        "colab_type": "code",
        "colab": {}
      },
      "source": [
        "model = keras.models.Sequential()\n",
        "model.add(L.InputLayer([100, 100, 3]))\n",
        "\n",
        "for filters in [32, 64, 128, 256]:\n",
        "    # ^ на четвёртой итерации вход станет меньше 5x5, свёртка \"не влезет\"\n",
        "    model.add(L.Conv2D(filters, kernel_size=(5, 5)))\n",
        "    model.add(L.Conv2D(filters, kernel_size=(1, 1)))\n",
        "    # ^ свёртка 1x1 имела бы смысл, если бы перед ней была нелинейность\n",
        "    model.add(L.MaxPooling2D(pool_size=(3, 3)))\n",
        "    model.add(L.Activation('relu'))\n",
        "    model.add(L.BatchNormalization())\n",
        "    # ^ не ошибка, но рекоммендуют вставлять BatchNorm перед активацией\n",
        "\n",
        "model.add(L.Flatten())\n",
        "\n",
        "model.add(L.Dense(100, activation='relu'))\n",
        "model.add(L.Dropout(0.5))\n",
        "model.add(L.Dense(10, activation='softmax'))\n",
        "\n",
        "model.compile(optimizer='adam', loss='sparse_categorical_accuracy')\n",
        "# accuracy имеет нулевую производную, поэтому оптимизировать лучше кроссэнтропию\n",
        "# (sparse_categorical_crossentropy)"
      ],
      "execution_count": 0,
      "outputs": []
    },
    {
      "cell_type": "markdown",
      "metadata": {
        "id": "flP--vf4Yalp",
        "colab_type": "text"
      },
      "source": [
        "### Обучение нейронной сети на примере датасета cifar10"
      ]
    },
    {
      "cell_type": "code",
      "metadata": {
        "id": "D6_fHXhGYalr",
        "colab_type": "code",
        "outputId": "111f6e51-57fb-46a1-ec88-3f3cc71911f3",
        "colab": {
          "base_uri": "https://localhost:8080/",
          "height": 68
        }
      },
      "source": [
        "from keras.datasets import cifar10\n",
        "from sklearn.model_selection import train_test_split\n",
        "(X_train, y_train), (X_test, y_test) = cifar10.load_data()\n",
        "X_train, X_val, y_train, y_val = train_test_split(X_train, y_train, test_size=10**4, random_state=42)\n",
        "\n",
        "class_names = np.array(['airplane','automobile ','bird ','cat ','deer ','dog ','frog ','horse ','ship ','truck'])\n",
        "\n",
        "print (X_train.shape,y_train.shape)"
      ],
      "execution_count": 0,
      "outputs": [
        {
          "output_type": "stream",
          "text": [
            "Downloading data from https://www.cs.toronto.edu/~kriz/cifar-10-python.tar.gz\n",
            "170500096/170498071 [==============================] - 39s 0us/step\n",
            "(40000, 32, 32, 3) (40000, 1)\n"
          ],
          "name": "stdout"
        }
      ]
    },
    {
      "cell_type": "code",
      "metadata": {
        "id": "eT6Vv1ZYYalw",
        "colab_type": "code",
        "outputId": "ef6bf542-e61b-46a5-d902-4d4ef53db234",
        "colab": {
          "base_uri": "https://localhost:8080/",
          "height": 595
        }
      },
      "source": [
        "import matplotlib.pyplot as plt\n",
        "%matplotlib inline\n",
        "\n",
        "plt.figure(figsize=[12,10])\n",
        "for i in range(12):\n",
        "    plt.subplot(3, 4, i + 1)\n",
        "    plt.xlabel(class_names[y_train[i, 0]])\n",
        "    plt.imshow(X_train[i])"
      ],
      "execution_count": 0,
      "outputs": [
        {
          "output_type": "display_data",
          "data": {
            "image/png": "[encoded data removed]",
            "text/plain": [
              "<Figure size 864x720 with 12 Axes>"
            ]
          },
          "metadata": {
            "tags": []
          }
        }
      ]
    },
    {
      "cell_type": "markdown",
      "metadata": {
        "id": "dV3Bg8MyYal1",
        "colab_type": "text"
      },
      "source": [
        "Нормировка:"
      ]
    },
    {
      "cell_type": "code",
      "metadata": {
        "id": "2HsKAlllYal5",
        "colab_type": "code",
        "colab": {}
      },
      "source": [
        "X_train = X_train / 255\n",
        "X_val = X_val / 255\n",
        "X_test = X_test / 255"
      ],
      "execution_count": 0,
      "outputs": []
    },
    {
      "cell_type": "code",
      "metadata": {
        "id": "C-SS_rrXYamB",
        "colab_type": "code",
        "colab": {}
      },
      "source": [
        "model = keras.models.Sequential()\n",
        "\n",
        "model.add(L.InputLayer(input_shape=[32,32,3]))\n",
        "model.add(L.Flatten())\n",
        "model.add(L.Dense(300, activation='relu'))\n",
        "model.add(L.Dense(100, activation='relu'))\n",
        "model.add(L.Dense(10, activation='softmax'))\n",
        "\n",
        "model.compile(loss='sparse_categorical_crossentropy', optimizer='adam')"
      ],
      "execution_count": 0,
      "outputs": []
    },
    {
      "cell_type": "code",
      "metadata": {
        "id": "AQ723oQ3YamH",
        "colab_type": "code",
        "outputId": "ee6867d1-8a8a-4b35-f5d6-a19b88663d8c",
        "colab": {
          "base_uri": "https://localhost:8080/",
          "height": 360
        }
      },
      "source": [
        "model.fit(X_train, y_train, epochs=7, validation_data=[X_val, y_val])"
      ],
      "execution_count": 0,
      "outputs": [
        {
          "output_type": "stream",
          "text": [
            "WARNING:tensorflow:From /usr/local/lib/python3.6/dist-packages/tensorflow/python/ops/math_ops.py:3066: to_int32 (from tensorflow.python.ops.math_ops) is deprecated and will be removed in a future version.\n",
            "Instructions for updating:\n",
            "Use tf.cast instead.\n",
            "Train on 40000 samples, validate on 10000 samples\n",
            "Epoch 1/7\n",
            "40000/40000 [==============================] - 10s 259us/step - loss: 1.8952 - val_loss: 1.7455\n",
            "Epoch 2/7\n",
            "40000/40000 [==============================] - 8s 195us/step - loss: 1.7126 - val_loss: 1.6648\n",
            "Epoch 3/7\n",
            "40000/40000 [==============================] - 8s 196us/step - loss: 1.6373 - val_loss: 1.6319\n",
            "Epoch 4/7\n",
            "40000/40000 [==============================] - 8s 194us/step - loss: 1.5893 - val_loss: 1.5852\n",
            "Epoch 5/7\n",
            "40000/40000 [==============================] - 8s 195us/step - loss: 1.5434 - val_loss: 1.5616\n",
            "Epoch 6/7\n",
            "40000/40000 [==============================] - 8s 195us/step - loss: 1.5205 - val_loss: 1.5595\n",
            "Epoch 7/7\n",
            "40000/40000 [==============================] - 8s 194us/step - loss: 1.4887 - val_loss: 1.5574\n"
          ],
          "name": "stdout"
        },
        {
          "output_type": "execute_result",
          "data": {
            "text/plain": [
              "<keras.callbacks.History at 0x7f55cc9ea390>"
            ]
          },
          "metadata": {
            "tags": []
          },
          "execution_count": 10
        }
      ]
    },
    {
      "cell_type": "code",
      "metadata": {
        "id": "p2uZCabzYamO",
        "colab_type": "code",
        "outputId": "31cfada3-bc06-463f-cbe9-b27ffd139687",
        "colab": {
          "base_uri": "https://localhost:8080/",
          "height": 68
        }
      },
      "source": [
        "from sklearn.metrics import accuracy_score\n",
        "test_acc = accuracy_score(y_test, model.predict_classes(X_test))\n",
        "print(\"\\n Test_acc =\", test_acc)\n",
        "assert test_acc > 0.45, \"Not good enough. Back to the drawing board :)\"\n",
        "print(\" Not bad!\")"
      ],
      "execution_count": 0,
      "outputs": [
        {
          "output_type": "stream",
          "text": [
            "\n",
            " Test_acc = 0.4524\n",
            " Not bad!\n"
          ],
          "name": "stdout"
        }
      ]
    },
    {
      "cell_type": "markdown",
      "metadata": {
        "id": "0740CplnYamU",
        "colab_type": "text"
      },
      "source": [
        "### Улучшаем модель\n",
        "Составьте и обучите модель, состоящую из следующих слоёв:"
      ]
    },
    {
      "cell_type": "markdown",
      "metadata": {
        "id": "Amfbp1l1YamY",
        "colab_type": "text"
      },
      "source": [
        "- Входной слой\n",
        "- Свёртка 3x3 с 10 фильтрами\n",
        "- Нелинейность на ваш вкус\n",
        "- Max-pooling 2x2\n",
        "- Вытягиваем оставшееся в вектор (Flatten)\n",
        "- Полносвязный слой на 100 нейронов\n",
        "- Нелинейность на ваш вкус\n",
        "- Выходной полносвязный слой с softmax"
      ]
    },
    {
      "cell_type": "code",
      "metadata": {
        "id": "DiDfccDU8KiT",
        "colab_type": "code",
        "colab": {}
      },
      "source": [
        ""
      ],
      "execution_count": 0,
      "outputs": []
    },
    {
      "cell_type": "code",
      "metadata": {
        "id": "xe3qeZVEYamc",
        "colab_type": "code",
        "colab": {}
      },
      "source": [
        "model = keras.models.Sequential()\n",
        "\n",
        "model.add(L.InputLayer(input_shape=[32,32,3]))\n",
        "model.add(L.Conv2D(filters=10, kernel_size=(3,3)))\n",
        "model.add(L.Activation('relu'))\n",
        "model.add(L.MaxPooling2D())\n",
        "model.add(L.Flatten())\n",
        "model.add(L.Dense(100, activation='relu'))\n",
        "model.add(L.Dense(10, activation='softmax'))\n",
        "model.compile(loss='sparse_categorical_crossentropy', metrics=['accuracy'], optimizer='adam')"
      ],
      "execution_count": 0,
      "outputs": []
    },
    {
      "cell_type": "code",
      "metadata": {
        "id": "c-Cq48PnYaml",
        "colab_type": "code",
        "outputId": "e453c8cf-3414-4ab8-c0e8-2a74ed14fc6c",
        "colab": {
          "base_uri": "https://localhost:8080/",
          "height": 241
        }
      },
      "source": [
        "model.fit(X_train, y_train, epochs=5, validation_data=[X_val, y_val])"
      ],
      "execution_count": 0,
      "outputs": [
        {
          "output_type": "stream",
          "text": [
            "Train on 40000 samples, validate on 10000 samples\n",
            "Epoch 1/5\n",
            "40000/40000 [==============================] - 10s 251us/step - loss: 1.5650 - acc: 0.4443 - val_loss: 1.3406 - val_acc: 0.5290\n",
            "Epoch 2/5\n",
            "40000/40000 [==============================] - 8s 192us/step - loss: 1.2493 - acc: 0.5621 - val_loss: 1.2500 - val_acc: 0.5656\n",
            "Epoch 3/5\n",
            "40000/40000 [==============================] - 8s 193us/step - loss: 1.1405 - acc: 0.6015 - val_loss: 1.1570 - val_acc: 0.5968\n",
            "Epoch 4/5\n",
            "40000/40000 [==============================] - 8s 193us/step - loss: 1.0686 - acc: 0.6267 - val_loss: 1.1513 - val_acc: 0.5992\n",
            "Epoch 5/5\n",
            "40000/40000 [==============================] - 8s 193us/step - loss: 1.0171 - acc: 0.6459 - val_loss: 1.1482 - val_acc: 0.6030\n"
          ],
          "name": "stdout"
        },
        {
          "output_type": "execute_result",
          "data": {
            "text/plain": [
              "<keras.callbacks.History at 0x7f55c2e726d8>"
            ]
          },
          "metadata": {
            "tags": []
          },
          "execution_count": 15
        }
      ]
    },
    {
      "cell_type": "code",
      "metadata": {
        "id": "kcBT4Zg4Yamx",
        "colab_type": "code",
        "outputId": "2e23ff16-f478-43e9-8715-52c9b9110114",
        "colab": {
          "base_uri": "https://localhost:8080/",
          "height": 68
        }
      },
      "source": [
        "from sklearn.metrics import accuracy_score\n",
        "test_acc = accuracy_score(y_test, model.predict_classes(X_test))\n",
        "print(\"\\n Test_acc =\", test_acc)\n",
        "assert test_acc > 0.50, \"Not good enough. Back to the drawing board :)\"\n",
        "print(\" Not bad!\")"
      ],
      "execution_count": 0,
      "outputs": [
        {
          "output_type": "stream",
          "text": [
            "\n",
            " Test_acc = 0.6\n",
            " Not bad!\n"
          ],
          "name": "stdout"
        }
      ]
    }
  ]
}