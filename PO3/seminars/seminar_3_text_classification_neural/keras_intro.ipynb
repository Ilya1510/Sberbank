{
 "cells": [
  {
   "cell_type": "markdown",
   "metadata": {},
   "source": [
    "# Нейронные сети с Keras\n",
    "Keras -- простая библиотека для написания нейронных сетей. Keras не позволяет строить сложные модели со специфическими функциями потерь, но зато удобен в использовании. Синтаксис Keras напоминает синтаксис sklearn."
   ]
  },
  {
   "cell_type": "code",
   "execution_count": 3,
   "metadata": {},
   "outputs": [],
   "source": [
    "import numpy as np\n",
    "import keras, keras.layers as L"
   ]
  },
  {
   "cell_type": "markdown",
   "metadata": {},
   "source": [
    "### Введение\n",
    "Основной класс для работы с керасом -- модель Sequential. В модель можно последовательно добавлять слои нейронной сети. \n",
    "\n",
    "После добавления всех слоёв можно вызвать model.compile, указав в аргументах функцию потерь, оптимизатор и метрику, которую необходимо считать при оптиимзации.\n",
    "\n",
    "Функция .summary выводит информацию о нейронной сети."
   ]
  },
  {
   "cell_type": "code",
   "execution_count": 4,
   "metadata": {},
   "outputs": [],
   "source": [
    "model = keras.models.Sequential()\n",
    "model.add(L.InputLayer(input_shape=[64]))\n",
    "model.add(L.Dense(100, activation='relu'))\n",
    "model.add(L.Dense(10, activation='softmax'))\n",
    "\n",
    "model.compile(loss='sparse_categorical_crossentropy', optimizer='adam', metrics=['accuracy'])"
   ]
  },
  {
   "cell_type": "code",
   "execution_count": 5,
   "metadata": {},
   "outputs": [
    {
     "name": "stdout",
     "output_type": "stream",
     "text": [
      "_________________________________________________________________\n",
      "Layer (type)                 Output Shape              Param #   \n",
      "=================================================================\n",
      "input_2 (InputLayer)         (None, 64)                0         \n",
      "_________________________________________________________________\n",
      "dense_3 (Dense)              (None, 100)               6500      \n",
      "_________________________________________________________________\n",
      "dense_4 (Dense)              (None, 10)                1010      \n",
      "=================================================================\n",
      "Total params: 7,510\n",
      "Trainable params: 7,510\n",
      "Non-trainable params: 0\n",
      "_________________________________________________________________\n"
     ]
    }
   ],
   "source": [
    "model.summary()"
   ]
  },
  {
   "cell_type": "markdown",
   "metadata": {},
   "source": [
    "Обучим модель на датасете digits. "
   ]
  },
  {
   "cell_type": "code",
   "execution_count": 10,
   "metadata": {},
   "outputs": [
    {
     "data": {
      "text/plain": [
       "0"
      ]
     },
     "execution_count": 10,
     "metadata": {},
     "output_type": "execute_result"
    },
    {
     "data": {
      "image/png": "[encoded data removed]",
      "text/plain": [
       "<Figure size 432x288 with 1 Axes>"
      ]
     },
     "metadata": {
      "needs_background": "light"
     },
     "output_type": "display_data"
    }
   ],
   "source": [
    "from sklearn.datasets import load_digits\n",
    "import matplotlib.pyplot as plt\n",
    "X, y = load_digits(return_X_y=True)\n",
    "plt.imshow(X[0].reshape((8,8)))\n",
    "y[0]"
   ]
  },
  {
   "cell_type": "code",
   "execution_count": 11,
   "metadata": {},
   "outputs": [
    {
     "data": {
      "text/plain": [
       "(1797, 64)"
      ]
     },
     "execution_count": 11,
     "metadata": {},
     "output_type": "execute_result"
    }
   ],
   "source": [
    "X.shape"
   ]
  },
  {
   "cell_type": "code",
   "execution_count": 38,
   "metadata": {},
   "outputs": [
    {
     "name": "stdout",
     "output_type": "stream",
     "text": [
      "Epoch 1/1\n",
      "1797/1797 [==============================] - 1s - loss: 2.0909     \n"
     ]
    },
    {
     "ename": "AttributeError",
     "evalue": "'Model' object has no attribute 'predict_classes'",
     "output_type": "error",
     "traceback": [
      "\u001b[0;31m---------------------------------------------------------------------------\u001b[0m",
      "\u001b[0;31mAttributeError\u001b[0m                            Traceback (most recent call last)",
      "\u001b[0;32m<ipython-input-38-b8a77f5f14c4>\u001b[0m in \u001b[0;36m<module>\u001b[0;34m()\u001b[0m\n\u001b[1;32m      4\u001b[0m \u001b[0mmodel\u001b[0m\u001b[0;34m.\u001b[0m\u001b[0mfit\u001b[0m\u001b[0;34m(\u001b[0m\u001b[0mX\u001b[0m\u001b[0;34m,\u001b[0m \u001b[0my\u001b[0m\u001b[0;34m,\u001b[0m \u001b[0mepochs\u001b[0m\u001b[0;34m=\u001b[0m\u001b[0;36m1\u001b[0m\u001b[0;34m)\u001b[0m\u001b[0;34m\u001b[0m\u001b[0;34m\u001b[0m\u001b[0m\n\u001b[1;32m      5\u001b[0m \u001b[0;34m\u001b[0m\u001b[0m\n\u001b[0;32m----> 6\u001b[0;31m \u001b[0my_pred\u001b[0m \u001b[0;34m=\u001b[0m \u001b[0mmodel\u001b[0m\u001b[0;34m.\u001b[0m\u001b[0mpredict_classes\u001b[0m\u001b[0;34m(\u001b[0m\u001b[0mX\u001b[0m\u001b[0;34m)\u001b[0m\u001b[0;34m\u001b[0m\u001b[0;34m\u001b[0m\u001b[0m\n\u001b[0m\u001b[1;32m      7\u001b[0m \u001b[0my_proba\u001b[0m \u001b[0;34m=\u001b[0m \u001b[0mmodel\u001b[0m\u001b[0;34m.\u001b[0m\u001b[0mpredict_proba\u001b[0m\u001b[0;34m(\u001b[0m\u001b[0mX\u001b[0m\u001b[0;34m)\u001b[0m\u001b[0;34m\u001b[0m\u001b[0;34m\u001b[0m\u001b[0m\n\u001b[1;32m      8\u001b[0m \u001b[0;34m\u001b[0m\u001b[0m\n",
      "\u001b[0;31mAttributeError\u001b[0m: 'Model' object has no attribute 'predict_classes'"
     ]
    }
   ],
   "source": [
    "from sklearn.datasets import load_digits\n",
    "X, y = load_digits(return_X_y=True)\n",
    "\n",
    "model.fit(X, y, epochs=1)\n",
    "\n",
    "y_pred = model.predict_classes(X)\n",
    "y_proba = model.predict_proba(X)\n",
    "\n",
    "from sklearn.metrics import accuracy_score\n",
    "print(\"\\nAccuracy = %.3f\" % accuracy_score(y, y_pred))"
   ]
  },
  {
   "cell_type": "markdown",
   "metadata": {},
   "source": [
    "### Обобщающая способность нейронной сети\n",
    "Визуализируем предсказания нейронной сети на простой задаче восстановления одномерной зависимости. "
   ]
  },
  {
   "cell_type": "code",
   "execution_count": 15,
   "metadata": {},
   "outputs": [
    {
     "data": {
      "text/plain": [
       "[<matplotlib.lines.Line2D at 0x7f4f906cfd30>]"
      ]
     },
     "execution_count": 15,
     "metadata": {},
     "output_type": "execute_result"
    },
    {
     "data": {
      "image/png": "[encoded data removed]",
      "text/plain": [
       "<Figure size 432x288 with 1 Axes>"
      ]
     },
     "metadata": {
      "needs_background": "light"
     },
     "output_type": "display_data"
    }
   ],
   "source": [
    "X = np.linspace(-5, 5, 1000)\n",
    "y = 0.05 * X ** 4 - 0.5 * X ** 3 + 8 * X - 3 + 4 * np.sin(X**2 / 2)\n",
    "plt.plot(X,y)"
   ]
  },
  {
   "cell_type": "markdown",
   "metadata": {},
   "source": [
    "Подберём нейронную сеть, хорошо приближающую нашу функцию."
   ]
  },
  {
   "cell_type": "code",
   "execution_count": 29,
   "metadata": {},
   "outputs": [],
   "source": [
    "model = keras.models.Sequential()\n",
    "model.add(L.InputLayer([1]))\n",
    "model.add(L.Dense(50, activation='relu'))\n",
    "model.add(L.Dense(50, activation='sigmoid'))\n",
    "model.add(L.Dense(1))\n",
    "model.compile(loss='mean_squared_error', optimizer='adam')"
   ]
  },
  {
   "cell_type": "code",
   "execution_count": 30,
   "metadata": {},
   "outputs": [
    {
     "name": "stdout",
     "output_type": "stream",
     "text": [
      "Epoch 1/300\n",
      "1000/1000 [==============================] - 0s - loss: 160.6380     \n",
      "Epoch 2/300\n",
      "1000/1000 [==============================] - 0s - loss: 149.8788     \n",
      "Epoch 3/300\n",
      "1000/1000 [==============================] - 0s - loss: 142.3634     \n",
      "Epoch 4/300\n",
      "1000/1000 [==============================] - 0s - loss: 136.9694     \n",
      "Epoch 5/300\n",
      "1000/1000 [==============================] - 0s - loss: 132.8889     \n",
      "Epoch 6/300\n",
      "1000/1000 [==============================] - 0s - loss: 129.3500     \n",
      "Epoch 7/300\n",
      "1000/1000 [==============================] - 0s - loss: 125.8890     \n",
      "Epoch 8/300\n",
      "1000/1000 [==============================] - 0s - loss: 122.3866     \n",
      "Epoch 9/300\n",
      "1000/1000 [==============================] - 0s - loss: 118.5015     \n",
      "Epoch 10/300\n",
      "1000/1000 [==============================] - 0s - loss: 114.2828     \n",
      "Epoch 11/300\n",
      "1000/1000 [==============================] - 0s - loss: 109.6667     \n",
      "Epoch 12/300\n",
      "1000/1000 [==============================] - 0s - loss: 104.6259     \n",
      "Epoch 13/300\n",
      "1000/1000 [==============================] - 0s - loss: 99.1456     \n",
      "Epoch 14/300\n",
      "1000/1000 [==============================] - 0s - loss: 93.3278     \n",
      "Epoch 15/300\n",
      "1000/1000 [==============================] - 0s - loss: 87.6287     \n",
      "Epoch 16/300\n",
      "1000/1000 [==============================] - 0s - loss: 81.7239     \n",
      "Epoch 17/300\n",
      "1000/1000 [==============================] - 0s - loss: 76.2666     \n",
      "Epoch 18/300\n",
      "1000/1000 [==============================] - 0s - loss: 71.3636     \n",
      "Epoch 19/300\n",
      "1000/1000 [==============================] - 0s - loss: 66.9002     \n",
      "Epoch 20/300\n",
      "1000/1000 [==============================] - 0s - loss: 63.0551     \n",
      "Epoch 21/300\n",
      "1000/1000 [==============================] - 0s - loss: 59.7990     \n",
      "Epoch 22/300\n",
      "1000/1000 [==============================] - 0s - loss: 57.1926     \n",
      "Epoch 23/300\n",
      "1000/1000 [==============================] - 0s - loss: 54.8073     \n",
      "Epoch 24/300\n",
      "1000/1000 [==============================] - 0s - loss: 52.8836     \n",
      "Epoch 25/300\n",
      "1000/1000 [==============================] - 0s - loss: 51.2696     \n",
      "Epoch 26/300\n",
      "1000/1000 [==============================] - 0s - loss: 49.7270     \n",
      "Epoch 27/300\n",
      "1000/1000 [==============================] - 0s - loss: 48.2980     \n",
      "Epoch 28/300\n",
      "1000/1000 [==============================] - 0s - loss: 45.1021     \n",
      "Epoch 29/300\n",
      "1000/1000 [==============================] - 0s - loss: 43.1685     \n",
      "Epoch 30/300\n",
      "1000/1000 [==============================] - 0s - loss: 41.9579     \n",
      "Epoch 31/300\n",
      "1000/1000 [==============================] - 0s - loss: 40.3722     \n",
      "Epoch 32/300\n",
      "1000/1000 [==============================] - 0s - loss: 37.9004     \n",
      "Epoch 33/300\n",
      "1000/1000 [==============================] - 0s - loss: 36.3748     \n",
      "Epoch 34/300\n",
      "1000/1000 [==============================] - 0s - loss: 34.8563     \n",
      "Epoch 35/300\n",
      "1000/1000 [==============================] - 0s - loss: 33.4904     \n",
      "Epoch 36/300\n",
      "1000/1000 [==============================] - 0s - loss: 32.3979     \n",
      "Epoch 37/300\n",
      "1000/1000 [==============================] - 0s - loss: 31.2079     \n",
      "Epoch 38/300\n",
      "1000/1000 [==============================] - 0s - loss: 29.2073     \n",
      "Epoch 39/300\n",
      "1000/1000 [==============================] - 0s - loss: 27.5751     \n",
      "Epoch 40/300\n",
      "1000/1000 [==============================] - 0s - loss: 26.6325     \n",
      "Epoch 41/300\n",
      "1000/1000 [==============================] - 0s - loss: 25.7657     \n",
      "Epoch 42/300\n",
      "1000/1000 [==============================] - 0s - loss: 24.4104     \n",
      "Epoch 43/300\n",
      "1000/1000 [==============================] - 0s - loss: 23.4184     \n",
      "Epoch 44/300\n",
      "1000/1000 [==============================] - 0s - loss: 22.7839     \n",
      "Epoch 45/300\n",
      "1000/1000 [==============================] - 0s - loss: 22.1839     \n",
      "Epoch 46/300\n",
      "1000/1000 [==============================] - 0s - loss: 21.5700     \n",
      "Epoch 47/300\n",
      "1000/1000 [==============================] - 0s - loss: 21.0261     \n",
      "Epoch 48/300\n",
      "1000/1000 [==============================] - 0s - loss: 20.5674     \n",
      "Epoch 49/300\n",
      "1000/1000 [==============================] - 0s - loss: 20.1073     \n",
      "Epoch 50/300\n",
      "1000/1000 [==============================] - 0s - loss: 19.7034     \n",
      "Epoch 51/300\n",
      "1000/1000 [==============================] - 0s - loss: 19.3400     \n",
      "Epoch 52/300\n",
      "1000/1000 [==============================] - 0s - loss: 18.9411     \n",
      "Epoch 53/300\n",
      "1000/1000 [==============================] - 0s - loss: 18.5963     \n",
      "Epoch 54/300\n",
      "1000/1000 [==============================] - 0s - loss: 18.2535     \n",
      "Epoch 55/300\n",
      "1000/1000 [==============================] - 0s - loss: 17.7287     \n",
      "Epoch 56/300\n",
      "1000/1000 [==============================] - 0s - loss: 16.9228     \n",
      "Epoch 57/300\n",
      "1000/1000 [==============================] - 0s - loss: 16.5686     \n",
      "Epoch 58/300\n",
      "1000/1000 [==============================] - 0s - loss: 16.2791     \n",
      "Epoch 59/300\n",
      "1000/1000 [==============================] - 0s - loss: 15.9054     \n",
      "Epoch 60/300\n",
      "1000/1000 [==============================] - 0s - loss: 15.0998     \n",
      "Epoch 61/300\n",
      "1000/1000 [==============================] - 0s - loss: 14.6944     \n",
      "Epoch 62/300\n",
      "1000/1000 [==============================] - 0s - loss: 14.3921    \n",
      "Epoch 63/300\n",
      "1000/1000 [==============================] - 0s - loss: 14.1601     \n",
      "Epoch 64/300\n",
      "1000/1000 [==============================] - 0s - loss: 13.9197     \n",
      "Epoch 65/300\n",
      "1000/1000 [==============================] - 0s - loss: 13.6847     \n",
      "Epoch 66/300\n",
      "1000/1000 [==============================] - 0s - loss: 13.4508     \n",
      "Epoch 67/300\n",
      "1000/1000 [==============================] - 0s - loss: 13.2475     \n",
      "Epoch 68/300\n",
      "1000/1000 [==============================] - 0s - loss: 13.0447     \n",
      "Epoch 69/300\n",
      "1000/1000 [==============================] - 0s - loss: 12.8489    \n",
      "Epoch 70/300\n",
      "1000/1000 [==============================] - 0s - loss: 12.6799     \n",
      "Epoch 71/300\n",
      "1000/1000 [==============================] - 0s - loss: 12.4998     \n",
      "Epoch 72/300\n",
      "1000/1000 [==============================] - 0s - loss: 12.3003     \n",
      "Epoch 73/300\n",
      "1000/1000 [==============================] - 0s - loss: 12.1237     \n",
      "Epoch 74/300\n",
      "1000/1000 [==============================] - 0s - loss: 11.9450     \n",
      "Epoch 75/300\n",
      "1000/1000 [==============================] - 0s - loss: 11.7919    \n",
      "Epoch 76/300\n",
      "1000/1000 [==============================] - 0s - loss: 11.6518     \n",
      "Epoch 77/300\n",
      "1000/1000 [==============================] - 0s - loss: 11.4752     \n",
      "Epoch 78/300\n",
      "1000/1000 [==============================] - 0s - loss: 11.2872     \n",
      "Epoch 79/300\n",
      "1000/1000 [==============================] - 0s - loss: 11.1181     \n",
      "Epoch 80/300\n",
      "1000/1000 [==============================] - 0s - loss: 10.9683     \n",
      "Epoch 81/300\n",
      "1000/1000 [==============================] - 0s - loss: 10.8162    \n",
      "Epoch 82/300\n",
      "1000/1000 [==============================] - 0s - loss: 10.6863    \n",
      "Epoch 83/300\n",
      "1000/1000 [==============================] - 0s - loss: 10.5600     \n",
      "Epoch 84/300\n",
      "1000/1000 [==============================] - 0s - loss: 10.4007    \n",
      "Epoch 85/300\n",
      "1000/1000 [==============================] - 0s - loss: 10.2677     \n",
      "Epoch 86/300\n",
      "1000/1000 [==============================] - 0s - loss: 10.1205     \n",
      "Epoch 87/300\n",
      "1000/1000 [==============================] - 0s - loss: 9.9853      \n",
      "Epoch 88/300\n",
      "1000/1000 [==============================] - 0s - loss: 9.8506     \n",
      "Epoch 89/300\n",
      "1000/1000 [==============================] - 0s - loss: 9.7487     \n",
      "Epoch 90/300\n",
      "1000/1000 [==============================] - 0s - loss: 9.6184      \n",
      "Epoch 91/300\n",
      "1000/1000 [==============================] - 0s - loss: 9.4882     \n",
      "Epoch 92/300\n",
      "1000/1000 [==============================] - 0s - loss: 9.3471     \n",
      "Epoch 93/300\n",
      "1000/1000 [==============================] - 0s - loss: 9.2123      \n",
      "Epoch 94/300\n",
      "1000/1000 [==============================] - 0s - loss: 9.0854     \n",
      "Epoch 95/300\n",
      "1000/1000 [==============================] - 0s - loss: 9.0194     \n",
      "Epoch 96/300\n",
      "1000/1000 [==============================] - 0s - loss: 8.9061     \n",
      "Epoch 97/300\n",
      "1000/1000 [==============================] - 0s - loss: 8.7723     \n",
      "Epoch 98/300\n",
      "1000/1000 [==============================] - 0s - loss: 8.6471     \n",
      "Epoch 99/300\n",
      "1000/1000 [==============================] - 0s - loss: 8.5474     \n",
      "Epoch 100/300\n",
      "1000/1000 [==============================] - 0s - loss: 8.4194     \n",
      "Epoch 101/300\n"
     ]
    },
    {
     "name": "stdout",
     "output_type": "stream",
     "text": [
      "1000/1000 [==============================] - 0s - loss: 8.3575     \n",
      "Epoch 102/300\n",
      "1000/1000 [==============================] - 0s - loss: 8.2603     \n",
      "Epoch 103/300\n",
      "1000/1000 [==============================] - 0s - loss: 8.1089     \n",
      "Epoch 104/300\n",
      "1000/1000 [==============================] - 0s - loss: 8.0222     \n",
      "Epoch 105/300\n",
      "1000/1000 [==============================] - 0s - loss: 7.9509     \n",
      "Epoch 106/300\n",
      "1000/1000 [==============================] - 0s - loss: 7.8295     \n",
      "Epoch 107/300\n",
      "1000/1000 [==============================] - 0s - loss: 7.7229     \n",
      "Epoch 108/300\n",
      "1000/1000 [==============================] - 0s - loss: 7.6295     \n",
      "Epoch 109/300\n",
      "1000/1000 [==============================] - 0s - loss: 7.5305     \n",
      "Epoch 110/300\n",
      "1000/1000 [==============================] - 0s - loss: 7.4873     \n",
      "Epoch 111/300\n",
      "1000/1000 [==============================] - 0s - loss: 7.3674     \n",
      "Epoch 112/300\n",
      "1000/1000 [==============================] - 0s - loss: 7.3005     \n",
      "Epoch 113/300\n",
      "1000/1000 [==============================] - 0s - loss: 7.1991     \n",
      "Epoch 114/300\n",
      "1000/1000 [==============================] - 0s - loss: 7.1161     \n",
      "Epoch 115/300\n",
      "1000/1000 [==============================] - 0s - loss: 7.0689     \n",
      "Epoch 116/300\n",
      "1000/1000 [==============================] - 0s - loss: 6.9428     \n",
      "Epoch 117/300\n",
      "1000/1000 [==============================] - 0s - loss: 6.9273     \n",
      "Epoch 118/300\n",
      "1000/1000 [==============================] - 0s - loss: 6.8086     \n",
      "Epoch 119/300\n",
      "1000/1000 [==============================] - 0s - loss: 6.7343     \n",
      "Epoch 120/300\n",
      "1000/1000 [==============================] - 0s - loss: 6.6857     \n",
      "Epoch 121/300\n",
      "1000/1000 [==============================] - 0s - loss: 6.6135     \n",
      "Epoch 122/300\n",
      "1000/1000 [==============================] - 0s - loss: 6.5322     \n",
      "Epoch 123/300\n",
      "1000/1000 [==============================] - 0s - loss: 6.4579     \n",
      "Epoch 124/300\n",
      "1000/1000 [==============================] - 0s - loss: 6.3980     \n",
      "Epoch 125/300\n",
      "1000/1000 [==============================] - 0s - loss: 6.3329     \n",
      "Epoch 126/300\n",
      "1000/1000 [==============================] - 0s - loss: 6.2624     \n",
      "Epoch 127/300\n",
      "1000/1000 [==============================] - 0s - loss: 6.2210     \n",
      "Epoch 128/300\n",
      "1000/1000 [==============================] - 0s - loss: 6.1364     \n",
      "Epoch 129/300\n",
      "1000/1000 [==============================] - 0s - loss: 6.1013     \n",
      "Epoch 130/300\n",
      "1000/1000 [==============================] - 0s - loss: 6.0229     \n",
      "Epoch 131/300\n",
      "1000/1000 [==============================] - 0s - loss: 5.9827     \n",
      "Epoch 132/300\n",
      "1000/1000 [==============================] - 0s - loss: 5.9123     \n",
      "Epoch 133/300\n",
      "1000/1000 [==============================] - 0s - loss: 5.8798     \n",
      "Epoch 134/300\n",
      "1000/1000 [==============================] - 0s - loss: 5.8349     \n",
      "Epoch 135/300\n",
      "1000/1000 [==============================] - 0s - loss: 5.7471     \n",
      "Epoch 136/300\n",
      "1000/1000 [==============================] - 0s - loss: 5.7178     \n",
      "Epoch 137/300\n",
      "1000/1000 [==============================] - 0s - loss: 5.6753     \n",
      "Epoch 138/300\n",
      "1000/1000 [==============================] - 0s - loss: 5.5912     \n",
      "Epoch 139/300\n",
      "1000/1000 [==============================] - 0s - loss: 5.5391     \n",
      "Epoch 140/300\n",
      "1000/1000 [==============================] - 0s - loss: 5.4822     \n",
      "Epoch 141/300\n",
      "1000/1000 [==============================] - 0s - loss: 5.4348     \n",
      "Epoch 142/300\n",
      "1000/1000 [==============================] - 0s - loss: 5.4327     \n",
      "Epoch 143/300\n",
      "1000/1000 [==============================] - 0s - loss: 5.3545     \n",
      "Epoch 144/300\n",
      "1000/1000 [==============================] - 0s - loss: 5.3265     \n",
      "Epoch 145/300\n",
      "1000/1000 [==============================] - 0s - loss: 5.2651     \n",
      "Epoch 146/300\n",
      "1000/1000 [==============================] - 0s - loss: 5.2422     \n",
      "Epoch 147/300\n",
      "1000/1000 [==============================] - 0s - loss: 5.1782     \n",
      "Epoch 148/300\n",
      "1000/1000 [==============================] - 0s - loss: 5.1167     \n",
      "Epoch 149/300\n",
      "1000/1000 [==============================] - 0s - loss: 5.1137     \n",
      "Epoch 150/300\n",
      "1000/1000 [==============================] - 0s - loss: 5.1472     \n",
      "Epoch 151/300\n",
      "1000/1000 [==============================] - 0s - loss: 5.0009     \n",
      "Epoch 152/300\n",
      "1000/1000 [==============================] - 0s - loss: 4.9521     \n",
      "Epoch 153/300\n",
      "1000/1000 [==============================] - 0s - loss: 4.9270     \n",
      "Epoch 154/300\n",
      "1000/1000 [==============================] - 0s - loss: 4.8890     \n",
      "Epoch 155/300\n",
      "1000/1000 [==============================] - 0s - loss: 4.8446     \n",
      "Epoch 156/300\n",
      "1000/1000 [==============================] - 0s - loss: 4.8162     \n",
      "Epoch 157/300\n",
      "1000/1000 [==============================] - 0s - loss: 4.8004     \n",
      "Epoch 158/300\n",
      "1000/1000 [==============================] - 0s - loss: 4.7706     \n",
      "Epoch 159/300\n",
      "1000/1000 [==============================] - 0s - loss: 4.6923     \n",
      "Epoch 160/300\n",
      "1000/1000 [==============================] - 0s - loss: 4.6594     \n",
      "Epoch 161/300\n",
      "1000/1000 [==============================] - 0s - loss: 4.6465     \n",
      "Epoch 162/300\n",
      "1000/1000 [==============================] - 0s - loss: 4.6037     \n",
      "Epoch 163/300\n",
      "1000/1000 [==============================] - 0s - loss: 4.5499     \n",
      "Epoch 164/300\n",
      "1000/1000 [==============================] - 0s - loss: 4.5114     \n",
      "Epoch 165/300\n",
      "1000/1000 [==============================] - 0s - loss: 4.4749     \n",
      "Epoch 166/300\n",
      "1000/1000 [==============================] - 0s - loss: 4.4479     \n",
      "Epoch 167/300\n",
      "1000/1000 [==============================] - 0s - loss: 4.4201     \n",
      "Epoch 168/300\n",
      "1000/1000 [==============================] - 0s - loss: 4.3877     \n",
      "Epoch 169/300\n",
      "1000/1000 [==============================] - 0s - loss: 4.3630     \n",
      "Epoch 170/300\n",
      "1000/1000 [==============================] - 0s - loss: 4.3804     \n",
      "Epoch 171/300\n",
      "1000/1000 [==============================] - 0s - loss: 4.3069     \n",
      "Epoch 172/300\n",
      "1000/1000 [==============================] - 0s - loss: 4.2624     \n",
      "Epoch 173/300\n",
      "1000/1000 [==============================] - 0s - loss: 4.2407     \n",
      "Epoch 174/300\n",
      "1000/1000 [==============================] - 0s - loss: 4.2389     \n",
      "Epoch 175/300\n",
      "1000/1000 [==============================] - 0s - loss: 4.1700     \n",
      "Epoch 176/300\n",
      "1000/1000 [==============================] - 0s - loss: 4.1853     \n",
      "Epoch 177/300\n",
      "1000/1000 [==============================] - 0s - loss: 4.1479     \n",
      "Epoch 178/300\n",
      "1000/1000 [==============================] - 0s - loss: 4.1080     \n",
      "Epoch 179/300\n",
      "1000/1000 [==============================] - 0s - loss: 4.0944     \n",
      "Epoch 180/300\n",
      "1000/1000 [==============================] - 0s - loss: 4.0712     \n",
      "Epoch 181/300\n",
      "1000/1000 [==============================] - 0s - loss: 4.0508     \n",
      "Epoch 182/300\n",
      "1000/1000 [==============================] - 0s - loss: 4.0423     \n",
      "Epoch 183/300\n",
      "1000/1000 [==============================] - 0s - loss: 3.9853     \n",
      "Epoch 184/300\n",
      "1000/1000 [==============================] - 0s - loss: 4.0536     \n",
      "Epoch 185/300\n",
      "1000/1000 [==============================] - 0s - loss: 3.9621     \n",
      "Epoch 186/300\n",
      "1000/1000 [==============================] - 0s - loss: 3.9002     \n",
      "Epoch 187/300\n",
      "1000/1000 [==============================] - 0s - loss: 3.9042     \n",
      "Epoch 188/300\n",
      "1000/1000 [==============================] - 0s - loss: 3.9028     \n",
      "Epoch 189/300\n",
      "1000/1000 [==============================] - 0s - loss: 3.8593     \n",
      "Epoch 190/300\n",
      "1000/1000 [==============================] - 0s - loss: 3.8448     \n",
      "Epoch 191/300\n",
      "1000/1000 [==============================] - 0s - loss: 3.7987     \n",
      "Epoch 192/300\n",
      "1000/1000 [==============================] - 0s - loss: 3.7697     \n",
      "Epoch 193/300\n",
      "1000/1000 [==============================] - 0s - loss: 3.7991     \n",
      "Epoch 194/300\n",
      "1000/1000 [==============================] - 0s - loss: 3.7424     \n",
      "Epoch 195/300\n",
      "1000/1000 [==============================] - 0s - loss: 3.7085     \n",
      "Epoch 196/300\n",
      "1000/1000 [==============================] - 0s - loss: 3.7046     \n",
      "Epoch 197/300\n",
      "1000/1000 [==============================] - 0s - loss: 3.6947     \n",
      "Epoch 198/300\n",
      "1000/1000 [==============================] - 0s - loss: 3.6593     \n",
      "Epoch 199/300\n",
      "1000/1000 [==============================] - 0s - loss: 3.6904     \n",
      "Epoch 200/300\n",
      "1000/1000 [==============================] - 0s - loss: 3.6360     \n",
      "Epoch 201/300\n"
     ]
    },
    {
     "name": "stdout",
     "output_type": "stream",
     "text": [
      "1000/1000 [==============================] - 0s - loss: 3.6654     \n",
      "Epoch 202/300\n",
      "1000/1000 [==============================] - 0s - loss: 3.6207     \n",
      "Epoch 203/300\n",
      "1000/1000 [==============================] - 0s - loss: 3.5955     \n",
      "Epoch 204/300\n",
      "1000/1000 [==============================] - 0s - loss: 3.5914     \n",
      "Epoch 205/300\n",
      "1000/1000 [==============================] - 0s - loss: 3.5488     \n",
      "Epoch 206/300\n",
      "1000/1000 [==============================] - 0s - loss: 3.5322     \n",
      "Epoch 207/300\n",
      "1000/1000 [==============================] - 0s - loss: 3.5073     \n",
      "Epoch 208/300\n",
      "1000/1000 [==============================] - 0s - loss: 3.4821     \n",
      "Epoch 209/300\n",
      "1000/1000 [==============================] - 0s - loss: 3.5102     \n",
      "Epoch 210/300\n",
      "1000/1000 [==============================] - 0s - loss: 3.4691     \n",
      "Epoch 211/300\n",
      "1000/1000 [==============================] - 0s - loss: 3.4621     \n",
      "Epoch 212/300\n",
      "1000/1000 [==============================] - 0s - loss: 3.4472     \n",
      "Epoch 213/300\n",
      "1000/1000 [==============================] - 0s - loss: 3.4156     \n",
      "Epoch 214/300\n",
      "1000/1000 [==============================] - 0s - loss: 3.4075     \n",
      "Epoch 215/300\n",
      "1000/1000 [==============================] - 0s - loss: 3.3760     \n",
      "Epoch 216/300\n",
      "1000/1000 [==============================] - 0s - loss: 3.4202     \n",
      "Epoch 217/300\n",
      "1000/1000 [==============================] - 0s - loss: 3.3853     \n",
      "Epoch 218/300\n",
      "1000/1000 [==============================] - 0s - loss: 3.3538     \n",
      "Epoch 219/300\n",
      "1000/1000 [==============================] - 0s - loss: 3.3340     \n",
      "Epoch 220/300\n",
      "1000/1000 [==============================] - 0s - loss: 3.3248     \n",
      "Epoch 221/300\n",
      "1000/1000 [==============================] - 0s - loss: 3.3126     \n",
      "Epoch 222/300\n",
      "1000/1000 [==============================] - 0s - loss: 3.3389     \n",
      "Epoch 223/300\n",
      "1000/1000 [==============================] - 0s - loss: 3.2963     \n",
      "Epoch 224/300\n",
      "1000/1000 [==============================] - 0s - loss: 3.2887     \n",
      "Epoch 225/300\n",
      "1000/1000 [==============================] - 0s - loss: 3.2620     \n",
      "Epoch 226/300\n",
      "1000/1000 [==============================] - 0s - loss: 3.2379     \n",
      "Epoch 227/300\n",
      "1000/1000 [==============================] - 0s - loss: 3.2341     \n",
      "Epoch 228/300\n",
      "1000/1000 [==============================] - 0s - loss: 3.2517     \n",
      "Epoch 229/300\n",
      "1000/1000 [==============================] - 0s - loss: 3.2151     \n",
      "Epoch 230/300\n",
      "1000/1000 [==============================] - 0s - loss: 3.2132     \n",
      "Epoch 231/300\n",
      "1000/1000 [==============================] - 0s - loss: 3.2188     \n",
      "Epoch 232/300\n",
      "1000/1000 [==============================] - 0s - loss: 3.1774     \n",
      "Epoch 233/300\n",
      "1000/1000 [==============================] - 0s - loss: 3.2140     \n",
      "Epoch 234/300\n",
      "1000/1000 [==============================] - 0s - loss: 3.1527     \n",
      "Epoch 235/300\n",
      "1000/1000 [==============================] - 0s - loss: 3.2063     \n",
      "Epoch 236/300\n",
      "1000/1000 [==============================] - 0s - loss: 3.1741     \n",
      "Epoch 237/300\n",
      "1000/1000 [==============================] - 0s - loss: 3.1232     \n",
      "Epoch 238/300\n",
      "1000/1000 [==============================] - 0s - loss: 3.1354     \n",
      "Epoch 239/300\n",
      "1000/1000 [==============================] - 0s - loss: 3.0889     \n",
      "Epoch 240/300\n",
      "1000/1000 [==============================] - 0s - loss: 3.1046     \n",
      "Epoch 241/300\n",
      "1000/1000 [==============================] - 0s - loss: 3.0764     \n",
      "Epoch 242/300\n",
      "1000/1000 [==============================] - 0s - loss: 3.0828     \n",
      "Epoch 243/300\n",
      "1000/1000 [==============================] - 0s - loss: 3.0569     \n",
      "Epoch 244/300\n",
      "1000/1000 [==============================] - 0s - loss: 3.0630     \n",
      "Epoch 245/300\n",
      "1000/1000 [==============================] - 0s - loss: 3.0371     \n",
      "Epoch 246/300\n",
      "1000/1000 [==============================] - 0s - loss: 3.0375     \n",
      "Epoch 247/300\n",
      "1000/1000 [==============================] - 0s - loss: 3.0216     \n",
      "Epoch 248/300\n",
      "1000/1000 [==============================] - 0s - loss: 3.0120     \n",
      "Epoch 249/300\n",
      "1000/1000 [==============================] - 0s - loss: 3.0387     \n",
      "Epoch 250/300\n",
      "1000/1000 [==============================] - 0s - loss: 2.9996     \n",
      "Epoch 251/300\n",
      "1000/1000 [==============================] - 0s - loss: 2.9914     \n",
      "Epoch 252/300\n",
      "1000/1000 [==============================] - 0s - loss: 2.9952     \n",
      "Epoch 253/300\n",
      "1000/1000 [==============================] - 0s - loss: 2.9954     \n",
      "Epoch 254/300\n",
      "1000/1000 [==============================] - 0s - loss: 2.9757     \n",
      "Epoch 255/300\n",
      "1000/1000 [==============================] - 0s - loss: 2.9544     \n",
      "Epoch 256/300\n",
      "1000/1000 [==============================] - 0s - loss: 3.0169     \n",
      "Epoch 257/300\n",
      "1000/1000 [==============================] - 0s - loss: 2.9677     \n",
      "Epoch 258/300\n",
      "1000/1000 [==============================] - 0s - loss: 2.9227     \n",
      "Epoch 259/300\n",
      "1000/1000 [==============================] - 0s - loss: 2.9399     \n",
      "Epoch 260/300\n",
      "1000/1000 [==============================] - 0s - loss: 2.9264     \n",
      "Epoch 261/300\n",
      "1000/1000 [==============================] - 0s - loss: 2.8993     \n",
      "Epoch 262/300\n",
      "1000/1000 [==============================] - 0s - loss: 2.9027     \n",
      "Epoch 263/300\n",
      "1000/1000 [==============================] - 0s - loss: 2.8999     \n",
      "Epoch 264/300\n",
      "1000/1000 [==============================] - 0s - loss: 2.9007     \n",
      "Epoch 265/300\n",
      "1000/1000 [==============================] - 0s - loss: 2.8765     \n",
      "Epoch 266/300\n",
      "1000/1000 [==============================] - 0s - loss: 2.8661     \n",
      "Epoch 267/300\n",
      "1000/1000 [==============================] - 0s - loss: 2.8686     \n",
      "Epoch 268/300\n",
      "1000/1000 [==============================] - 0s - loss: 2.8683     \n",
      "Epoch 269/300\n",
      "1000/1000 [==============================] - 0s - loss: 2.9391     \n",
      "Epoch 270/300\n",
      "1000/1000 [==============================] - 0s - loss: 2.8508     \n",
      "Epoch 271/300\n",
      "1000/1000 [==============================] - 0s - loss: 2.8337     \n",
      "Epoch 272/300\n",
      "1000/1000 [==============================] - 0s - loss: 2.8190     \n",
      "Epoch 273/300\n",
      "1000/1000 [==============================] - 0s - loss: 2.8264     \n",
      "Epoch 274/300\n",
      "1000/1000 [==============================] - 0s - loss: 2.8385     \n",
      "Epoch 275/300\n",
      "1000/1000 [==============================] - 0s - loss: 2.8101     \n",
      "Epoch 276/300\n",
      "1000/1000 [==============================] - 0s - loss: 2.8144     \n",
      "Epoch 277/300\n",
      "1000/1000 [==============================] - 0s - loss: 2.8079     \n",
      "Epoch 278/300\n",
      "1000/1000 [==============================] - 0s - loss: 2.7740     \n",
      "Epoch 279/300\n",
      "1000/1000 [==============================] - 0s - loss: 2.8249     \n",
      "Epoch 280/300\n",
      "1000/1000 [==============================] - 0s - loss: 2.7859     \n",
      "Epoch 281/300\n",
      "1000/1000 [==============================] - 0s - loss: 2.7567     \n",
      "Epoch 282/300\n",
      "1000/1000 [==============================] - 0s - loss: 2.7632     \n",
      "Epoch 283/300\n",
      "1000/1000 [==============================] - 0s - loss: 2.7494     \n",
      "Epoch 284/300\n",
      "1000/1000 [==============================] - 0s - loss: 2.7455     \n",
      "Epoch 285/300\n",
      "1000/1000 [==============================] - 0s - loss: 2.7557     \n",
      "Epoch 286/300\n",
      "1000/1000 [==============================] - 0s - loss: 2.7590     \n",
      "Epoch 287/300\n",
      "1000/1000 [==============================] - 0s - loss: 2.7291     \n",
      "Epoch 288/300\n",
      "1000/1000 [==============================] - 0s - loss: 2.7508     \n",
      "Epoch 289/300\n",
      "1000/1000 [==============================] - 0s - loss: 2.7067     \n",
      "Epoch 290/300\n",
      "1000/1000 [==============================] - 0s - loss: 2.6945     \n",
      "Epoch 291/300\n",
      "1000/1000 [==============================] - 0s - loss: 2.6877     \n",
      "Epoch 292/300\n",
      "1000/1000 [==============================] - 0s - loss: 2.7116     \n",
      "Epoch 293/300\n",
      "1000/1000 [==============================] - 0s - loss: 2.6813     \n",
      "Epoch 294/300\n",
      "1000/1000 [==============================] - 0s - loss: 2.6652     \n",
      "Epoch 295/300\n",
      "1000/1000 [==============================] - 0s - loss: 2.6848     \n",
      "Epoch 296/300\n",
      "1000/1000 [==============================] - 0s - loss: 2.6758     \n",
      "Epoch 297/300\n",
      "1000/1000 [==============================] - 0s - loss: 2.6670     \n",
      "Epoch 298/300\n",
      "1000/1000 [==============================] - 0s - loss: 2.6690     \n",
      "Epoch 299/300\n",
      "1000/1000 [==============================] - 0s - loss: 2.6182     \n",
      "Epoch 300/300\n",
      "1000/1000 [==============================] - 0s - loss: 2.6186     \n"
     ]
    },
    {
     "data": {
      "text/plain": [
       "<keras.callbacks.History at 0x7f4f980aa518>"
      ]
     },
     "execution_count": 30,
     "metadata": {},
     "output_type": "execute_result"
    }
   ],
   "source": [
    "model.fit(X,y, epochs=300)"
   ]
  },
  {
   "cell_type": "code",
   "execution_count": 31,
   "metadata": {},
   "outputs": [
    {
     "data": {
      "image/png": "[encoded data removed]",
      "text/plain": [
       "<Figure size 720x360 with 1 Axes>"
      ]
     },
     "metadata": {
      "needs_background": "light"
     },
     "output_type": "display_data"
    }
   ],
   "source": [
    "plt.figure(figsize=(10,5))\n",
    "plt.plot(X,y, label='true function')\n",
    "plt.plot(X, model.predict(X), label='predicted function')\n",
    "plt.legend()\n",
    "plt.show()"
   ]
  },
  {
   "cell_type": "markdown",
   "metadata": {},
   "source": [
    "Построим на Keras более сложную модель. Это можно сделать так: создать слои, применять слои к предыдущим слоям, затем явно указать входы и выходы модели. Например:"
   ]
  },
  {
   "cell_type": "code",
   "execution_count": 39,
   "metadata": {},
   "outputs": [],
   "source": [
    "l_inp = L.Input([64])\n",
    "\n",
    "l_dense1 = L.Dense(50, activation='sigmoid')(l_inp)\n",
    "l_dense2 = L.Dense(100, activation='relu')(l_inp)\n",
    "\n",
    "l_concat = L.Concatenate()([l_dense1, l_dense2])\n",
    "l_pre_output = L.Dense(10)(l_concat)\n",
    "l_out = L.Activation('softmax')(l_pre_output)\n",
    "\n",
    "model = keras.models.Model(inputs=[l_inp], outputs=[l_out])\n",
    "model.compile(optimizer='adam', loss='sparse_categorical_crossentropy')"
   ]
  },
  {
   "cell_type": "code",
   "execution_count": 45,
   "metadata": {},
   "outputs": [
    {
     "name": "stdout",
     "output_type": "stream",
     "text": [
      "Epoch 1/10\n",
      "1797/1797 [==============================] - 0s - loss: 0.0223     \n",
      "Epoch 2/10\n",
      "1797/1797 [==============================] - 0s - loss: 0.0187     \n",
      "Epoch 3/10\n",
      "1797/1797 [==============================] - 0s - loss: 0.0167     \n",
      "Epoch 4/10\n",
      "1797/1797 [==============================] - 0s - loss: 0.0126     \n",
      "Epoch 5/10\n",
      "1797/1797 [==============================] - 0s - loss: 0.0120     \n",
      "Epoch 6/10\n",
      "1797/1797 [==============================] - 0s - loss: 0.0122     \n",
      "Epoch 7/10\n",
      "1797/1797 [==============================] - 0s - loss: 0.0089     \n",
      "Epoch 8/10\n",
      "1797/1797 [==============================] - 0s - loss: 0.0083     \n",
      "Epoch 9/10\n",
      "1797/1797 [==============================] - 0s - loss: 0.0071     \n",
      "Epoch 10/10\n",
      "1797/1797 [==============================] - 0s - loss: 0.0069     \n",
      "\n",
      "Accuracy = 1.000\n"
     ]
    }
   ],
   "source": [
    "model.fit(X, y, epochs=10)\n",
    "y_proba = model.predict(X)\n",
    "\n",
    "from sklearn.metrics import accuracy_score\n",
    "print(\"\\nAccuracy = %.3f\" % accuracy_score(y, np.argmax(y_proba, axis=1)))"
   ]
  },
  {
   "cell_type": "markdown",
   "metadata": {},
   "source": [
    "### Как выстрелить себе в ногу с Keras"
   ]
  },
  {
   "cell_type": "markdown",
   "metadata": {},
   "source": [
    "* __Задача:__ Предсказать цену дома в $mil\n",
    "* __Вход:__ 39 признаков этого дома"
   ]
  },
  {
   "cell_type": "code",
   "execution_count": null,
   "metadata": {},
   "outputs": [],
   "source": [
    "model = keras.models.Sequential()\n",
    "model.add(L.InputLayer([39]))\n",
    "model.add(L.Dense(128, activation='sigmoid'))\n",
    "model.add(L.BatchNormalization())\n",
    "model.add(L.Dense(128, activation='sigmoid'))\n",
    "model.add(L.Dense(1))\n",
    "\n",
    "model.compile(optimizer='sgd', loss='mean_squared_error')"
   ]
  },
  {
   "cell_type": "code",
   "execution_count": null,
   "metadata": {},
   "outputs": [],
   "source": [
    "model = keras.models.Sequential()\n",
    "model.add(L.InputLayer([39]))\n",
    "model.add(L.BatchNormalization()) #<- можно просто нормализовать входы \n",
    "model.add(L.Dense(128, kernel_initializer=keras.initializers.zeros())) #<-инициализация нулями\n",
    "model.add(L.Dense(128, kernel_initializer=keras.initializers.zeros())) #<-\n",
    "model.add(L.Dense(1)) #<- три линейных слоя подряд ни к чему не приведут\n",
    "\n",
    "model.compile(optimizer='sgd', loss='mean_squared_error') "
   ]
  },
  {
   "cell_type": "markdown",
   "metadata": {},
   "source": [
    "* __Задача:__ Распознать рукописную цифру (0-9)\n",
    "* __Вход:__ картинка 28 x 28 пикселей (ч/б)"
   ]
  },
  {
   "cell_type": "code",
   "execution_count": null,
   "metadata": {},
   "outputs": [],
   "source": [
    "model = keras.models.Sequential()\n",
    "model.add(L.InputLayer([28, 28, 1]))\n",
    "model.add(L.Conv2D(filters=64, kernel_size=(3, 3)))\n",
    "model.add(L.MaxPool2D(pool_size=(2, 2)))\n",
    "model.add(L.Activation('relu'))\n",
    "model.add(L.Flatten())\n",
    "model.add(L.Dense(100))\n",
    "model.add(L.Activation('relu'))\n",
    "model.add(L.Dropout(0.1))\n",
    "model.add(L.Dense(10))\n",
    "model.add(L.Activation('softmax'))\n",
    "\n",
    "model.compile(optimizer='rmsprop', loss='sparse_categorical_crossentropy')"
   ]
  },
  {
   "cell_type": "code",
   "execution_count": null,
   "metadata": {},
   "outputs": [],
   "source": [
    "model = keras.models.Sequential()\n",
    "model.add(L.InputLayer([28, 28, 1]))\n",
    "model.add(L.Conv2D(filters=512, kernel_size=(3, 3)))\n",
    "# ^ многовато фильтров, вряд ли найдётся 512 значимо разных 3x3 карты\n",
    "model.add(L.Activation('relu'))\n",
    "model.add(L.MaxPool2D(pool_size=(2, 2)))\n",
    "# ^ relu и max pool можно переставить местами, будет то же самое чуть быстрее (не ошибка)\n",
    "model.add(L.Flatten())\n",
    "model.add(L.Dense(100))\n",
    "model.add(L.Activation('relu'))\n",
    "model.add(L.Dropout(0.1)) # < хороший, годный дропаут\n",
    "model.add(L.Dense(10))\n",
    "model.add(L.Activation('softmax'))\n",
    "model.add(L.Dropout(0.1))\n",
    "# ^ не стоит dropout-ить вероятности на выходе, рискуете получить бесконечный лосс\n",
    "model.compile(optimizer='rmsprop', loss='mean_squared_error')\n",
    "# ^ обучать классификацию по квадратичной ошибке можно, но... это безбожно"
   ]
  },
  {
   "cell_type": "markdown",
   "metadata": {},
   "source": [
    "* __Задача:__ классификация одежды (10 классов)\n",
    "* __Вход:__ картинка RGB 100 x 100 пикселей"
   ]
  },
  {
   "cell_type": "code",
   "execution_count": null,
   "metadata": {},
   "outputs": [],
   "source": [
    "model = keras.models.Sequential()\n",
    "model.add(L.InputLayer([100, 100, 3]))\n",
    "\n",
    "for filters in [32, 64, 128, 256]:\n",
    "    model.add(L.Conv2D(filters, kernel_size=(5, 5)))\n",
    "    model.add(L.Conv2D(filters, kernel_size=(1, 1)))\n",
    "    model.add(L.MaxPooling2D(pool_size=(3, 3)))\n",
    "    model.add(L.Activation('relu'))\n",
    "    model.add(L.BatchNormalization())\n",
    "\n",
    "model.add(L.Flatten())\n",
    "\n",
    "model.add(L.Dense(100, activation='relu'))\n",
    "model.add(L.Dropout(0.5))\n",
    "model.add(L.Dense(10, activation='softmax'))\n",
    "\n",
    "model.compile(optimizer='adam', loss='sparse_categorical_accuracy')"
   ]
  },
  {
   "cell_type": "code",
   "execution_count": null,
   "metadata": {},
   "outputs": [],
   "source": [
    "model = keras.models.Sequential()\n",
    "model.add(L.InputLayer([100, 100, 3]))\n",
    "\n",
    "for filters in [32, 64, 128, 256]:\n",
    "    # ^ на четвёртой итерации вход станет меньше 5x5, свёртка \"не влезет\"\n",
    "    model.add(L.Conv2D(filters, kernel_size=(5, 5)))\n",
    "    model.add(L.Conv2D(filters, kernel_size=(1, 1)))\n",
    "    # ^ свёртка 1x1 имела бы смысл, если бы перед ней была нелинейность\n",
    "    model.add(L.MaxPooling2D(pool_size=(3, 3)))\n",
    "    model.add(L.Activation('relu'))\n",
    "    model.add(L.BatchNormalization())\n",
    "    # ^ не ошибка, но рекоммендуют вставлять BatchNorm перед активацией\n",
    "\n",
    "model.add(L.Flatten())\n",
    "\n",
    "model.add(L.Dense(100, activation='relu'))\n",
    "model.add(L.Dropout(0.5))\n",
    "model.add(L.Dense(10, activation='softmax'))\n",
    "\n",
    "model.compile(optimizer='adam', loss='sparse_categorical_accuracy')\n",
    "# accuracy имеет нулевую производную, поэтому оптимизировать лучше кроссэнтропию\n",
    "# (sparse_categorical_crossentropy)"
   ]
  },
  {
   "cell_type": "markdown",
   "metadata": {},
   "source": [
    "### Обучение нейронной сети на примере датасета cifar10"
   ]
  },
  {
   "cell_type": "code",
   "execution_count": 46,
   "metadata": {},
   "outputs": [
    {
     "name": "stdout",
     "output_type": "stream",
     "text": [
      "(40000, 32, 32, 3) (40000, 1)\n"
     ]
    }
   ],
   "source": [
    "from keras.datasets import cifar10\n",
    "from sklearn.model_selection import train_test_split\n",
    "(X_train, y_train), (X_test, y_test) = cifar10.load_data()\n",
    "X_train, X_val, y_train, y_val = train_test_split(X_train, y_train, test_size=10**4, random_state=42)\n",
    "\n",
    "class_names = np.array(['airplane','automobile ','bird ','cat ','deer ','dog ','frog ','horse ','ship ','truck'])\n",
    "\n",
    "print (X_train.shape,y_train.shape)"
   ]
  },
  {
   "cell_type": "code",
   "execution_count": 47,
   "metadata": {},
   "outputs": [
    {
     "data": {
      "image/png": "[encoded data removed]",
      "text/plain": [
       "<Figure size 864x720 with 12 Axes>"
      ]
     },
     "metadata": {
      "needs_background": "light"
     },
     "output_type": "display_data"
    }
   ],
   "source": [
    "import matplotlib.pyplot as plt\n",
    "%matplotlib inline\n",
    "\n",
    "plt.figure(figsize=[12,10])\n",
    "for i in range(12):\n",
    "    plt.subplot(3, 4, i + 1)\n",
    "    plt.xlabel(class_names[y_train[i, 0]])\n",
    "    plt.imshow(X_train[i])"
   ]
  },
  {
   "cell_type": "markdown",
   "metadata": {},
   "source": [
    "Нормировка:"
   ]
  },
  {
   "cell_type": "code",
   "execution_count": null,
   "metadata": {},
   "outputs": [],
   "source": [
    "X_train = X_train / 255\n",
    "X_val = X_val / 255\n",
    "X_test = X_test / 255"
   ]
  },
  {
   "cell_type": "code",
   "execution_count": null,
   "metadata": {},
   "outputs": [],
   "source": [
    "model = keras.models.Sequential()\n",
    "\n",
    "model.add(L.InputLayer(input_shape=[32,32,3]))\n",
    "model.add(L.Flatten())\n",
    "model.add(L.Dense(300, activation='relu'))\n",
    "model.add(L.Dense(100, activation='relu'))\n",
    "model.add(L.Dense(10, activation='softmax'))\n",
    "\n",
    "model.compile(loss='sparse_categorical_crossentropy', optimizer='adam')"
   ]
  },
  {
   "cell_type": "code",
   "execution_count": null,
   "metadata": {},
   "outputs": [],
   "source": [
    "model.fit(X_train, y_train, epochs=7, validation_data=[X_val, y_val])"
   ]
  },
  {
   "cell_type": "code",
   "execution_count": null,
   "metadata": {},
   "outputs": [],
   "source": [
    "from sklearn.metrics import accuracy_score\n",
    "test_acc = accuracy_score(y_test, model.predict_classes(X_test))\n",
    "print(\"\\n Test_acc =\", test_acc)\n",
    "assert test_acc > 0.45, \"Not good enough. Back to the drawing board :)\"\n",
    "print(\" Not bad!\")"
   ]
  },
  {
   "cell_type": "markdown",
   "metadata": {},
   "source": [
    "### Улучшаем модель\n",
    "Составьте и обучите модель, состоящую из следующих слоёв:"
   ]
  },
  {
   "cell_type": "markdown",
   "metadata": {},
   "source": [
    "- Входной слой\n",
    "- Свёртка 3x3 с 10 фильтрами\n",
    "- Нелинейность на ваш вкус\n",
    "- Max-pooling 2x2\n",
    "- Вытягиваем оставшееся в вектор (Flatten)\n",
    "- Полносвязный слой на 100 нейронов\n",
    "- Нелинейность на ваш вкус\n",
    "- Выходной полносвязный слой с softmax"
   ]
  },
  {
   "cell_type": "code",
   "execution_count": null,
   "metadata": {},
   "outputs": [],
   "source": [
    "model = keras.models.Sequential()\n",
    "\n",
    "# Ваш код: создайте модель\n",
    "\n",
    "model.compile(loss='sparse_categorical_crossentropy', metrics='accuracy', optimizer='adam')"
   ]
  },
  {
   "cell_type": "code",
   "execution_count": null,
   "metadata": {},
   "outputs": [],
   "source": [
    "model.fit(X_train, y_train, epochs=5, validation_data=[X_val, y_val])"
   ]
  },
  {
   "cell_type": "code",
   "execution_count": null,
   "metadata": {},
   "outputs": [],
   "source": [
    "from sklearn.metrics import accuracy_score\n",
    "test_acc = accuracy_score(y_test, model.predict_classes(X_test))\n",
    "print(\"\\n Test_acc =\", test_acc)\n",
    "assert test_acc > 0.50, \"Not good enough. Back to the drawing board :)\"\n",
    "print(\" Not bad!\")"
   ]
  }
 ],
 "metadata": {
  "kernelspec": {
   "display_name": "Python 3",
   "language": "python",
   "name": "python3"
  },
  "language_info": {
   "codemirror_mode": {
    "name": "ipython",
    "version": 3
   },
   "file_extension": ".py",
   "mimetype": "text/x-python",
   "name": "python",
   "nbconvert_exporter": "python",
   "pygments_lexer": "ipython3",
   "version": "3.6.7"
  }
 },
 "nbformat": 4,
 "nbformat_minor": 2
}
